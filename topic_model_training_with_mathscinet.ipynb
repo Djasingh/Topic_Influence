{
 "cells": [
  {
   "cell_type": "code",
   "execution_count": 1,
   "id": "bf3bb4a4",
   "metadata": {},
   "outputs": [],
   "source": [
    "import re\n",
    "import time\n",
    "import spacy\n",
    "import gensim\n",
    "import pickle\n",
    "import numpy as np\n",
    "import pandas as pd\n",
    "import texthero as hero\n",
    "from pprint import pprint\n",
    "import gensim.corpora as corpora\n",
    "from gensim.utils import simple_preprocess\n",
    "from gensim.models import CoherenceModel, LdaMulticore\n",
    "\n",
    "from nltk.corpus import stopwords\n",
    "stop_words = stopwords.words('english')\n",
    "\n",
    "# # Plotting tools\n",
    "# import pyLDAvis\n",
    "# import pyLDAvis.gensim  # don't skip this\n",
    "import matplotlib.pyplot as plt\n",
    "%matplotlib inline\n",
    "\n",
    "import logging\n",
    "logging.basicConfig(format='%(asctime)s : %(levelname)s : %(message)s', level=logging.ERROR)\n",
    "\n",
    "import warnings\n",
    "warnings.filterwarnings(\"ignore\",category=DeprecationWarning)\n",
    "#from dask import dataframe as dd"
   ]
  },
  {
   "cell_type": "code",
   "execution_count": 4,
   "id": "1d9dc4ce",
   "metadata": {},
   "outputs": [],
   "source": [
    "folder = \"../data/mgp_data/\""
   ]
  },
  {
   "cell_type": "code",
   "execution_count": 5,
   "id": "d7597224",
   "metadata": {},
   "outputs": [],
   "source": [
    "nlp = spacy.load('en_core_web_sm', disable=['parser', 'ner'])"
   ]
  },
  {
   "cell_type": "code",
   "execution_count": 10,
   "id": "8e1cd2a9",
   "metadata": {},
   "outputs": [],
   "source": [
    "def title_to_words(titles):\n",
    "    for title in titles:\n",
    "        yield(gensim.utils.simple_preprocess(str(title), deacc=True))  # deacc=True removes punctuations"
   ]
  },
  {
   "cell_type": "code",
   "execution_count": 7,
   "id": "7e5b5dc1",
   "metadata": {},
   "outputs": [],
   "source": [
    "# # See trigram example\n",
    "# print(trigram_mod[bigram_mod[data_words[0]]])"
   ]
  },
  {
   "cell_type": "code",
   "execution_count": 30,
   "id": "d9c7ca60",
   "metadata": {},
   "outputs": [],
   "source": [
    "def bigram_trigram_model(data_words, th=100):\n",
    "    bigram  = gensim.models.Phrases(data_words, min_count=1, threshold=th) # higher threshold fewer phrases.\n",
    "    trigram = gensim.models.Phrases(bigram[data_words], threshold=th)  \n",
    "\n",
    "    # Faster way to get a sentence clubbed as a trigram/bigram\n",
    "    bigram_mod  = gensim.models.phrases.Phraser(bigram)\n",
    "    trigram_mod = gensim.models.phrases.Phraser(trigram)\n",
    "    return bigram_mod, trigram_mod"
   ]
  },
  {
   "cell_type": "code",
   "execution_count": 7,
   "id": "0e433030",
   "metadata": {},
   "outputs": [],
   "source": [
    "def remove_stopwords(text):\n",
    "    return [word for word in text if word not in stop_words]\n",
    "\n",
    "def make_bigrams(text, bigram_mod):\n",
    "    return bigram_mod[text]\n",
    "\n",
    "def make_trigrams(text, trigram_mod):\n",
    "    return trigram_mod[bigram_mod[text]]\n",
    "\n",
    "def lemmatization(text, allowed_postags=['NOUN', 'ADJ', 'VERB', 'ADV']):\n",
    "    doc = nlp(\" \".join(text)) \n",
    "    texts_out = [token.lemma_ for token in doc if token.pos_ in allowed_postags]\n",
    "    return texts_out"
   ]
  },
  {
   "cell_type": "code",
   "execution_count": 8,
   "id": "3fb9a548",
   "metadata": {},
   "outputs": [],
   "source": [
    "def prepare_text_for_lda(titles):\n",
    "    title_words = list(title_to_words(titles))\n",
    "    #del titles\n",
    "    #print(\"Done First\")\n",
    "    bigram_mod, trigram_mod = bigram_trigram_model(title_words)\n",
    "    #print(\"Done Second\")\n",
    "    title_words_nostops = list(map(remove_stopwords,title_words))\n",
    "    del title_words\n",
    "    #print(\"Done Third\")\n",
    "    title_words_bigrams = [make_bigrams(text, bigram_mod) for text in title_words_nostops]\n",
    "    del title_words_nostops\n",
    "    #print(\"Done Fourth\")\n",
    "    #title_lemmatized = list(map(lemmatization, title_words_bigrams))\n",
    "    title_lemmatized = title_words_bigrams\n",
    "    del title_words_bigrams\n",
    "    #print(\"Finished\")\n",
    "    return title_lemmatized"
   ]
  },
  {
   "cell_type": "code",
   "execution_count": 11,
   "id": "93755e3a",
   "metadata": {},
   "outputs": [],
   "source": [
    "def create_corpus(data_lemmatized):\n",
    "    id2word = corpora.Dictionary(data_lemmatized)\n",
    "    id2word.filter_extremes(no_below=10, no_above=0.5)#no_below=2\n",
    "    texts  = data_lemmatized\n",
    "    corpus = [id2word.doc2bow(text) for text in texts]\n",
    "    return (id2word, texts, corpus)"
   ]
  },
  {
   "cell_type": "code",
   "execution_count": 12,
   "id": "e92bffd0",
   "metadata": {},
   "outputs": [],
   "source": [
    "#pprint(lda_model.print_topics())"
   ]
  },
  {
   "cell_type": "code",
   "execution_count": 13,
   "id": "71fe5839",
   "metadata": {},
   "outputs": [],
   "source": [
    "def predict(lda_model, id2word, preprocess, new_doc):\n",
    "    new_doc = preprocess(new_doc)\n",
    "    new_doc_bow = [id2word.doc2bow(doc) for doc in new_doc]\n",
    "    topic_dist = lda_model.get_document_topics(new_doc_bow)\n",
    "    return topic_dist"
   ]
  },
  {
   "cell_type": "code",
   "execution_count": 14,
   "id": "6f4f94e2",
   "metadata": {},
   "outputs": [],
   "source": [
    "#topic_dists = predict(lda_model, id2word, prepare_text_for_lda, titles[8:16])"
   ]
  },
  {
   "cell_type": "code",
   "execution_count": 15,
   "id": "efabfe44",
   "metadata": {},
   "outputs": [],
   "source": [
    "# new_doc = ['Practical Bayesian Optimization of Machine Learning Algorithms']\n",
    "# new_doc = prepare_text_for_lda(new_doc)\n",
    "# new_doc_bow = [id2word.doc2bow(doc) for doc in new_doc]\n",
    "# print(new_doc_bow)\n",
    "# print(list(lda_model.get_document_topics(new_doc_bow)))"
   ]
  },
  {
   "cell_type": "code",
   "execution_count": 16,
   "id": "0c46b9c4",
   "metadata": {},
   "outputs": [],
   "source": [
    "def compute_coherence_values(dictionary, corpus, texts, limit, start=5, step=5, coherence=\"c_v\"):\n",
    "    coherence_values = []\n",
    "    #model_list = []\n",
    "    perplexity = []\n",
    "    topics = []\n",
    "    for num_topics in range(start, limit, step):\n",
    "        model = LdaMulticore(corpus=corpus, id2word=dictionary, iterations=10, \n",
    "                             num_topics=num_topics, workers = 8, passes=10, random_state=100)\n",
    "        #model_list.append(model)\n",
    "        perplexity.append(model.log_perplexity(corpus))\n",
    "        topics.append(num_topics)\n",
    "        coherencemodel = CoherenceModel(model=model, texts=texts, dictionary=dictionary, coherence=coherence)\n",
    "        coherence_values.append(coherencemodel.get_coherence())\n",
    "    return perplexity, coherence_values, topics"
   ]
  },
  {
   "cell_type": "code",
   "execution_count": 17,
   "id": "56aaca6a",
   "metadata": {},
   "outputs": [],
   "source": [
    "def save_model(lda_model, id2word, corpus, topics=25, add_info=\"\"):\n",
    "    lda_model.save(f'./topic_models/topic_model_mathscinet_{topics}_{add_info}.gensim')\n",
    "    id2word.save(f'./topic_models/dictionary_mathscinet_{topics}_{add_info}.gensim')\n",
    "    pickle.dump(corpus, open(f'./topic_models/corpus_mathscinet_{topics}_{add_info}.pkl', 'wb'))\n",
    "    print(\"Model saved\")\n",
    "    return"
   ]
  },
  {
   "cell_type": "code",
   "execution_count": 18,
   "id": "faf210cb",
   "metadata": {},
   "outputs": [],
   "source": [
    "def plot(perplexity, coherence_values, topics, num_topics=25, add_info=\"\"):\n",
    "    plt.figure()\n",
    "    fig, ax = plt.subplots()\n",
    "    ax.plot(topics, coherence_values, color='red')#label=\"c_v\",\n",
    "    ax.tick_params(axis='y', labelcolor='red')\n",
    "    ax.set_xlabel('Number of Topics')\n",
    "    ax.set_ylabel('C_V Score')\n",
    "    #ax.legend()\n",
    "    \n",
    "    ax2 = ax.twinx()\n",
    "    ax2.plot(topics, perplexity,  color='green')#label=\"perplexity\",\n",
    "    ax2.tick_params(axis='y', labelcolor='green')\n",
    "    ax2.set_ylabel('Log Perplexity')\n",
    "    #ax2.legend()\n",
    "    \n",
    "    plt.savefig(f'score_mathscinet_{num_topics}_{add_info}.pdf')\n",
    "    plt.show()\n",
    "    return "
   ]
  },
  {
   "cell_type": "code",
   "execution_count": 19,
   "id": "01ac2dcb",
   "metadata": {},
   "outputs": [],
   "source": [
    "def plot_coherence(coherence_values, topics, label=\"c_v\", num_topics=25, add_info=\"\"):\n",
    "    plt.figure()\n",
    "    _= plt.plot(topics, coherence_values, label=label)\n",
    "    _= plt.xlabel('Number of Topics')\n",
    "    _= plt.ylabel('C_V Score')\n",
    "    plt.legend()\n",
    "    plt.savefig(f\"score_{label}_mathscinet_{num_topics}_{add_info}.pdf\")\n",
    "    plt.show()"
   ]
  },
  {
   "cell_type": "code",
   "execution_count": 20,
   "id": "c13e80d5",
   "metadata": {},
   "outputs": [],
   "source": [
    "def plot_perplexity(perplexity, topics, label=\"Perplexity\",num_topics=25, add_info=\"\"):\n",
    "    plt.figure()\n",
    "    _= plt.plot(topics, perplexity, label=label)\n",
    "    _= plt.xlabel('Number of Topics')\n",
    "    _= plt.ylabel('Log Perplexity')\n",
    "    plt.legend()\n",
    "    plt.savefig(f\"score_{label}_mathscinet_{num_topics}_{add_info}.pdf\")\n",
    "    plt.show()"
   ]
  },
  {
   "cell_type": "code",
   "execution_count": 21,
   "id": "2d79176e",
   "metadata": {},
   "outputs": [],
   "source": [
    "def publicaton_data(filename = \"final_mathscinet_publs_included_remaining_publ_processed.pkl\", stem_title=True):       #final_mathscinet_publs_processed.pkl (previous file)\n",
    "    publication = pd.read_pickle(folder+filename)\n",
    "    print(f\"publication count: {publication.shape[0]}\")\n",
    "    publication[\"clean_title\"] = hero.clean(publication[\"title\"])\n",
    "    if stem_title:\n",
    "        publication[\"clean_title\"] = hero.stem(publication[\"clean_title\"])\n",
    "    publication1 = publication.groupby([\"author_id\",\"publication_year\"])['clean_title'].apply(list).reset_index(name='yearwise_titles').copy()\n",
    "    print(f\"Publication group by (author_id, year) count: {publication1.shape[0]}\")\n",
    "    return publication1"
   ]
  },
  {
   "cell_type": "code",
   "execution_count": 22,
   "id": "ea436d71",
   "metadata": {},
   "outputs": [],
   "source": [
    "def load_topic_model(lda_location='./topic_models/topic_model_mathscinet_15_with_all.gensim', dictionary_location='./topic_models/dictionary_mathscinet_15_with_all.gensim', corpus_location='./topic_models/corpus_mathscinet_15_with_all.pkl', corpus_load=False):\n",
    "    lda_model = LdaMulticore.load(lda_location)\n",
    "    id2word = corpora.Dictionary.load(dictionary_location)\n",
    "    if corpus_load:\n",
    "        corpus = pickle.load(open('./topic_models/corpus_mathscinet_15_with_all.pkl', 'rb'))\n",
    "        return lda_model, id2word, corpus\n",
    "    return lda_model, id2word"
   ]
  },
  {
   "cell_type": "code",
   "execution_count": 23,
   "id": "6f91f8c4",
   "metadata": {},
   "outputs": [],
   "source": [
    "#a = load_topic_model()"
   ]
  },
  {
   "cell_type": "code",
   "execution_count": 31,
   "id": "93a52a35",
   "metadata": {},
   "outputs": [],
   "source": [
    "#a[1].num_docs"
   ]
  },
  {
   "cell_type": "code",
   "execution_count": 32,
   "id": "6764f40e",
   "metadata": {},
   "outputs": [],
   "source": [
    "#a[0].get_topics().shape"
   ]
  },
  {
   "cell_type": "code",
   "execution_count": 1,
   "id": "9b63bd2c",
   "metadata": {},
   "outputs": [],
   "source": [
    "if __name__ == \"__main__\":\n",
    "    print(\"Started...\")\n",
    "    start_time = time.time()\n",
    "#    publication = pd.read_pickle(folder+\"final_mathscinet_publs_included_remaining_publ_processed.pkl\")\n",
    "#     print(f\"Publication count: {publication.shape[0]}\")\n",
    "#     publication[\"clean_title\"] = hero.clean(publication[\"title\"])\n",
    "#     publication[\"clean_title\"] = hero.stem(publication[\"clean_title\"])\n",
    "#     publication1 = publication.groupby([\"author_id\",\"publication_year\"])['clean_title'].apply(list).reset_index(name='yearwise_titles').copy()\n",
    "#     print(f\"Publication group by year count: {publication1.shape[0]}\")\n",
    "    #del publication\n",
    "    #publication = publication.sample(1000)\n",
    "    publication1 = publicaton_data(\"final_mathscinet_publs_included_remaining_publ_processed.pkl\",stem_title=True)\n",
    "    titles = [\" \".join(year_titles) for year_titles in publication1[\"yearwise_titles\"].values.tolist()]\n",
    "    del publication1\n",
    "    print(f\"Time taken (in minutes)= {(time.time() - start_time)/60}\")\n",
    "    data_lemmatized = prepare_text_for_lda(titles)\n",
    "    \n",
    "    id2word, texts, corpus = create_corpus(data_lemmatized)\n",
    "    print(f\"Time taken (in minutes)= {(time.time() - start_time)/60}\")\n",
    "    print(\"Training...\")\n",
    "    num_topics = 15\n",
    "    add_info= \"with_all\"\n",
    "    lda_model = LdaMulticore(corpus=corpus,\n",
    "                               id2word=id2word,\n",
    "                               num_topics=num_topics,\n",
    "                               random_state=109,\n",
    "                               chunksize=1000,\n",
    "                               passes=10,\n",
    "                               minimum_probability=0,\n",
    "                               workers = 8,)\n",
    "    print(f\"Time taken (in minutes)= {(time.time() - start_time)/60}\")\n",
    "    \n",
    "    print('\\nPerplexity: ', lda_model.log_perplexity(corpus))  #lower is better\n",
    "    coherence_model_lda = CoherenceModel(model=lda_model, texts=texts, dictionary=id2word, coherence='c_v')\n",
    "    coherence_lda = coherence_model_lda.get_coherence()\n",
    "    print(f\"Time taken (in minutes)= {(time.time() - start_time)/60}\")\n",
    "    print('\\n Coherence Score: ', coherence_lda)\n",
    "    print(\"Optimal number of topic calculation...\")\n",
    "    perplexity, coherence_values, topics = compute_coherence_values(id2word, corpus, texts, 35)\n",
    "    plot(perplexity, coherence_values, topics, num_topics, add_info)\n",
    "    plot_perplexity(perplexity, topics, \"perplexity\", num_topics, add_info)\n",
    "    plot_coherence(coherence_values, topics, \"c_v\", num_topics, add_info)\n",
    "    save_model(lda_model, id2word, corpus, num_topics, add_info)\n",
    "    print(f\"Time taken (in minutes)= {(time.time() - start_time)/60}\")"
   ]
  },
  {
   "cell_type": "code",
   "execution_count": 77,
   "id": "bdf5df57",
   "metadata": {},
   "outputs": [],
   "source": [
    "# str1 = \"The United States of America (U.S.A. or USA), commonly known as the United States (U.S. or US) or America, is a country primarily located in North America consisting of 50 states, a federal district, five major unincorporated territories, nine Minor Outlying Islands,[i] and 326 Indian reservations. It is the world's third-largest country by both land and total area.[c] It shares land borders with Canada to its north and with Mexico to its south and has maritime borders with the Bahamas, Cuba, Russia, and other nations.[j] With a population of over 333 million,[k] it is the most populous country in the Americas and the third-most populous in the world. The national capital of the United States is Washington, D.C., and its most populous city and principal financial center is New York City.\""
   ]
  },
  {
   "cell_type": "code",
   "execution_count": null,
   "id": "96fbcf85",
   "metadata": {},
   "outputs": [],
   "source": [
    "#lda_model, id2word = load_topic_model()"
   ]
  },
  {
   "cell_type": "code",
   "execution_count": null,
   "id": "a76fc79d",
   "metadata": {},
   "outputs": [],
   "source": [
    "#lda_model.show_topics(num_topics=25)"
   ]
  },
  {
   "cell_type": "code",
   "execution_count": null,
   "id": "654407f5",
   "metadata": {},
   "outputs": [],
   "source": [
    "#coherence_model_lda = CoherenceModel(model=lda_model, texts=texts, dictionary=id2word, coherence='c_v')"
   ]
  },
  {
   "cell_type": "code",
   "execution_count": null,
   "id": "211ec77c",
   "metadata": {},
   "outputs": [],
   "source": [
    "#coherence_lda = coherence_model_lda.get_coherence()"
   ]
  },
  {
   "cell_type": "code",
   "execution_count": null,
   "id": "45bb4e9e",
   "metadata": {},
   "outputs": [],
   "source": [
    "#coherence_lda"
   ]
  },
  {
   "cell_type": "code",
   "execution_count": null,
   "id": "3dfd16c1",
   "metadata": {},
   "outputs": [],
   "source": [
    "#publication = pd.read_pickle(folder+\"final_mathscinet_publs_processed.pkl\")"
   ]
  },
  {
   "cell_type": "code",
   "execution_count": null,
   "id": "5d869797",
   "metadata": {},
   "outputs": [],
   "source": [
    "#publication1 = publication.groupby([\"author_id\",\"publication_year\"])['title'].apply(list).reset_index(name='yearwise_titles').copy()"
   ]
  },
  {
   "cell_type": "code",
   "execution_count": null,
   "id": "5060f1ff",
   "metadata": {},
   "outputs": [],
   "source": [
    "#publication1.sample(5)"
   ]
  },
  {
   "cell_type": "code",
   "execution_count": null,
   "id": "e8d7d8d0",
   "metadata": {},
   "outputs": [],
   "source": [
    "#publication1[[\"author_id\",\"yearwise_titles\"]].head().values"
   ]
  },
  {
   "cell_type": "code",
   "execution_count": null,
   "id": "dc1476c3",
   "metadata": {},
   "outputs": [],
   "source": [
    "#titles[0:5]"
   ]
  },
  {
   "cell_type": "code",
   "execution_count": null,
   "id": "8d9c064b",
   "metadata": {},
   "outputs": [],
   "source": [
    "#save_model(lda_model, id2word, corpus)"
   ]
  },
  {
   "cell_type": "code",
   "execution_count": null,
   "id": "7ac02edb",
   "metadata": {},
   "outputs": [],
   "source": [
    "#perplexity+len(perplexity)*[10]\n",
    "#coherence_values"
   ]
  },
  {
   "cell_type": "code",
   "execution_count": 28,
   "id": "71a173eb",
   "metadata": {},
   "outputs": [],
   "source": [
    "#plot(perplexity, coherence_values, topics, num_topics, add_info)"
   ]
  },
  {
   "cell_type": "code",
   "execution_count": 29,
   "id": "de9afa48",
   "metadata": {},
   "outputs": [],
   "source": [
    "#coherence_values"
   ]
  },
  {
   "cell_type": "code",
   "execution_count": 30,
   "id": "9ad9b021",
   "metadata": {},
   "outputs": [],
   "source": [
    "#perplexity"
   ]
  },
  {
   "cell_type": "code",
   "execution_count": 100,
   "id": "f1eeba37",
   "metadata": {},
   "outputs": [],
   "source": [
    "aa= pd.Series([\"The United States of America (U.S.A. or USA), commonly known as the United States (U.S. or US) or America, is a country primarily located in North America consisting of 50 states, a federal district, five major unincorporated territories, nine Minor Outlying Islands,[i] and 326 Indian reservations. It is the world's third-largest country by both land and total area.[c] It shares land borders with Canada to its north and with Mexico to its south and has maritime borders with the Bahamas, Cuba, Russia, and other nations.[j] With a population of over 333 million,[k] it is the most populous country in the Americas and the third-most populous in the world. The national capital of the United States is Washington, D.C., and its most populous city and principal financial center is New York City.\"])"
   ]
  },
  {
   "cell_type": "code",
   "execution_count": 102,
   "id": "dcd60e53",
   "metadata": {},
   "outputs": [
    {
     "data": {
      "text/plain": [
       "array(['united states america u usa commonly known united states u us america country primarily located north america consisting states federal district five major unincorporated territories nine minor outlying islands indian reservations world third largest country land total area c shares land borders canada north mexico south maritime borders bahamas cuba russia nations j population million k populous country americas third populous world national capital united states washington c populous city principal financial center new york city'],\n",
       "      dtype=object)"
      ]
     },
     "execution_count": 102,
     "metadata": {},
     "output_type": "execute_result"
    }
   ],
   "source": [
    "hero.preprocessing.clean(aa).values"
   ]
  }
 ],
 "metadata": {
  "kernelspec": {
   "display_name": "Python 3",
   "language": "python",
   "name": "python3"
  },
  "language_info": {
   "codemirror_mode": {
    "name": "ipython",
    "version": 3
   },
   "file_extension": ".py",
   "mimetype": "text/x-python",
   "name": "python",
   "nbconvert_exporter": "python",
   "pygments_lexer": "ipython3",
   "version": "3.8.11"
  }
 },
 "nbformat": 4,
 "nbformat_minor": 5
}
