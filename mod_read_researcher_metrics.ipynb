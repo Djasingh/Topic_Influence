{
 "cells": [
  {
   "cell_type": "code",
   "execution_count": 3,
   "id": "b6bc567f",
   "metadata": {},
   "outputs": [],
   "source": [
    "import pickle\n",
    "import pandas as pd\n",
    "import networkx as nx\n",
    "from glob import glob"
   ]
  },
  {
   "cell_type": "code",
   "execution_count": 2,
   "id": "0699f953",
   "metadata": {},
   "outputs": [],
   "source": [
    "folder = \"../data/mgp_data/\""
   ]
  },
  {
   "cell_type": "code",
   "execution_count": 80,
   "id": "da11ad0f",
   "metadata": {},
   "outputs": [],
   "source": [
    "def load_hindex():\n",
    "    filenames     = glob(\"./mgp_author_h-index*.pkl\")\n",
    "    hindex_df     = pd.read_csv(folder+\"mgp_h-index.csv\")\n",
    "    hindex_df     = hindex_df[~(hindex_df[\"h_index\"].isnull())].copy()\n",
    "    hindex_dict   = dict(zip(hindex_df[\"mgp_id\"], hindex_df[\"h_index\"]))\n",
    "    print(f\"Initial Count: {len(hindex_dict)}\")\n",
    "    data_list = []\n",
    "    for filename in filenames:\n",
    "        with open(filename, \"rb\") as f:\n",
    "            data = pickle.load(f)\n",
    "        data = [(k,v[\"hindex\"]) for k,v in data.items() if v is not None]\n",
    "        #print(data)\n",
    "        data_list = data_list+data\n",
    "    hindex_dict.update(dict(data_list))\n",
    "    print(f\"updated Count: {len(hindex_dict)}\")\n",
    "    return hindex_dict"
   ]
  },
  {
   "cell_type": "code",
   "execution_count": 3,
   "id": "9df35f01",
   "metadata": {},
   "outputs": [],
   "source": [
    "def load_pickle(filename, folder= \"../data/mgp_data/\"):\n",
    "    with open(folder+filename,\"rb\") as fp:\n",
    "        data =  pickle.load(fp)\n",
    "        data_dict = dict(list(data))\n",
    "    return data_dict"
   ]
  },
  {
   "cell_type": "code",
   "execution_count": 4,
   "id": "bd72b616",
   "metadata": {},
   "outputs": [],
   "source": [
    "def get_metrics():\n",
    "    #hindex_df     = pd.read_csv(folder+\"mgp_h-index.csv\")\n",
    "    mathscinet     = pd.read_csv(folder+\"mod_info_mathscinet.csv\")\n",
    "    hindex = load_hindex()\n",
    "    mathscinet[\"processed_publ_area\"] = mathscinet[\"publ_by_area\"].apply(lambda x :[each_publ[-1] for each_publ in eval(x)] if type(x) == str else x )\n",
    "    mgpid2citation_count  = dict(zip(mathscinet[\"mgp_id\"],mathscinet[\"total_citation_count\"]))\n",
    "    mgpid2publ_count      = dict(zip(mathscinet[\"mgp_id\"],mathscinet[\"total_publ_count\"]))\n",
    "    mgpid2_name_variation = dict(zip(mathscinet[\"mgp_id\"],mathscinet[\"published_as\"]))\n",
    "    mgpid2_publ_area      = dict(zip(mathscinet[\"mgp_id\"],mathscinet[\"processed_publ_area\"]))\n",
    "    return (hindex,mgpid2citation_count,mgpid2publ_count,mgpid2_name_variation,mgpid2_publ_area)"
   ]
  },
  {
   "cell_type": "code",
   "execution_count": 5,
   "id": "4d4ef3fd",
   "metadata": {},
   "outputs": [],
   "source": [
    "def get_graph_metrics():\n",
    "    graph = nx.read_gpickle(\"topic_co_occurance_graph_80.gpickle\")\n",
    "    pr = nx.pagerank(graph, alpha=0.85)\n",
    "    bc = nx.betweenness_centrality(graph)\n",
    "    return (pr, bc)"
   ]
  },
  {
   "cell_type": "code",
   "execution_count": null,
   "id": "f16f4257",
   "metadata": {},
   "outputs": [],
   "source": [
    "if __name__==\"__main__\":\n",
    "    pr, bc = get_graph_metrics()\n",
    "    hindex,mgpid2citation_count,mgpid2publ_count,mgpid2_name_variation,mgpid2_publ_area = get_metrics()"
   ]
  },
  {
   "cell_type": "code",
   "execution_count": null,
   "id": "4228e5d4",
   "metadata": {},
   "outputs": [],
   "source": []
  }
 ],
 "metadata": {
  "kernelspec": {
   "display_name": "Python 3",
   "language": "python",
   "name": "python3"
  },
  "language_info": {
   "codemirror_mode": {
    "name": "ipython",
    "version": 3
   },
   "file_extension": ".py",
   "mimetype": "text/x-python",
   "name": "python",
   "nbconvert_exporter": "python",
   "pygments_lexer": "ipython3",
   "version": "3.8.11"
  }
 },
 "nbformat": 4,
 "nbformat_minor": 5
}
