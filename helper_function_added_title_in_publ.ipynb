{
 "cells": [
  {
   "cell_type": "code",
   "execution_count": 1,
   "id": "6c7294a3",
   "metadata": {},
   "outputs": [],
   "source": [
    "import pickle as pkl\n",
    "import pandas as pd"
   ]
  },
  {
   "cell_type": "code",
   "execution_count": 2,
   "id": "b02d6476",
   "metadata": {},
   "outputs": [],
   "source": [
    "folder = \"../data/mgp_data/\""
   ]
  },
  {
   "cell_type": "code",
   "execution_count": 3,
   "id": "fd32fc31",
   "metadata": {},
   "outputs": [],
   "source": [
    "def read_MGP():\n",
    "    mgp_nodes = pd.read_csv(folder+\"mgpnodeList_with_year_completion_updated_with_mod_dblp_link.csv\",\n",
    "                            sep=\",\",lineterminator=\"\\n\", low_memory=False)\n",
    "    #mgp_nodes[\"Year\"] =  pd.to_datetime(mgp_nodes[\"Year\"]).dt.year\n",
    "    mgp_nodes[\"Year\"] = pd.to_datetime(mgp_nodes['Year'], format='%Y',errors = 'coerce').dt.year\n",
    "    mgp_edges = pd.read_csv(folder+\"mgpedgeList_wodup_updated.csv\",\n",
    "                            sep=\",\",lineterminator=\"\\n\", low_memory=False)\n",
    "    return (mgp_nodes, mgp_edges)"
   ]
  },
  {
   "cell_type": "code",
   "execution_count": 4,
   "id": "1223cf82",
   "metadata": {},
   "outputs": [],
   "source": [
    "filename = \"final_mathscinet_publs_included_remaining_publ_processed.pkl\""
   ]
  },
  {
   "cell_type": "code",
   "execution_count": 5,
   "id": "16daa670",
   "metadata": {},
   "outputs": [],
   "source": [
    "mgp_data = read_MGP()"
   ]
  },
  {
   "cell_type": "code",
   "execution_count": 6,
   "id": "fc6091cd",
   "metadata": {},
   "outputs": [],
   "source": [
    "publication = pd.read_pickle(folder+filename)"
   ]
  },
  {
   "cell_type": "code",
   "execution_count": 7,
   "id": "410466a7",
   "metadata": {},
   "outputs": [],
   "source": [
    "publication[\"publication_year\"] =  pd.to_datetime(publication[\"publication_year\"])\n",
    "publication[\"publication_year\"] =  publication[\"publication_year\"].dt.year"
   ]
  },
  {
   "cell_type": "code",
   "execution_count": 8,
   "id": "4219c7b9",
   "metadata": {},
   "outputs": [],
   "source": [
    "mgp_nodes = mgp_data[0]"
   ]
  },
  {
   "cell_type": "code",
   "execution_count": 9,
   "id": "098ffc77",
   "metadata": {},
   "outputs": [],
   "source": [
    "assert mgp_nodes[\"Year\"].values[0]==1933"
   ]
  },
  {
   "cell_type": "code",
   "execution_count": 10,
   "id": "88ba5078",
   "metadata": {},
   "outputs": [
    {
     "data": {
      "text/html": [
       "<div>\n",
       "<style scoped>\n",
       "    .dataframe tbody tr th:only-of-type {\n",
       "        vertical-align: middle;\n",
       "    }\n",
       "\n",
       "    .dataframe tbody tr th {\n",
       "        vertical-align: top;\n",
       "    }\n",
       "\n",
       "    .dataframe thead th {\n",
       "        text-align: right;\n",
       "    }\n",
       "</style>\n",
       "<table border=\"1\" class=\"dataframe\">\n",
       "  <thead>\n",
       "    <tr style=\"text-align: right;\">\n",
       "      <th></th>\n",
       "      <th>Id</th>\n",
       "      <th>Name</th>\n",
       "      <th>Year</th>\n",
       "      <th>University</th>\n",
       "      <th>Country</th>\n",
       "      <th>Title</th>\n",
       "      <th>MSC</th>\n",
       "      <th>BIO</th>\n",
       "      <th>MSN</th>\n",
       "      <th>Dblp_Link</th>\n",
       "    </tr>\n",
       "  </thead>\n",
       "  <tbody>\n",
       "    <tr>\n",
       "      <th>0</th>\n",
       "      <td>1</td>\n",
       "      <td>Ernest Willard Anderson</td>\n",
       "      <td>1933.0</td>\n",
       "      <td>Iowa State University</td>\n",
       "      <td>UnitedStates</td>\n",
       "      <td>Statics of Special Types of Homogeneous Elasti...</td>\n",
       "      <td>Mathematics Subject Classification@ 74—Mechani...</td>\n",
       "      <td>NaN</td>\n",
       "      <td>NaN</td>\n",
       "      <td>NaN</td>\n",
       "    </tr>\n",
       "    <tr>\n",
       "      <th>1</th>\n",
       "      <td>2</td>\n",
       "      <td>Archie  Higdon</td>\n",
       "      <td>1936.0</td>\n",
       "      <td>Iowa State University</td>\n",
       "      <td>UnitedStates</td>\n",
       "      <td>Stresses in Moderately Thick Rectangular Plates</td>\n",
       "      <td>Mathematics Subject Classification@ 74—Mechani...</td>\n",
       "      <td>NaN</td>\n",
       "      <td>NaN</td>\n",
       "      <td>NaN</td>\n",
       "    </tr>\n",
       "    <tr>\n",
       "      <th>2</th>\n",
       "      <td>3</td>\n",
       "      <td>Donald Hill Rock</td>\n",
       "      <td>1939.0</td>\n",
       "      <td>Iowa State University</td>\n",
       "      <td>UnitedStates</td>\n",
       "      <td>Finite Strain Analysis in Elastic Theory</td>\n",
       "      <td>NaN</td>\n",
       "      <td>NaN</td>\n",
       "      <td>http://www.ams.org/mathscinet/MRAuthorID/527409</td>\n",
       "      <td>NaN</td>\n",
       "    </tr>\n",
       "    <tr>\n",
       "      <th>3</th>\n",
       "      <td>4</td>\n",
       "      <td>Charles Joseph Thorne</td>\n",
       "      <td>1941.0</td>\n",
       "      <td>Iowa State University</td>\n",
       "      <td>UnitedStates</td>\n",
       "      <td>The Approximate Solution of Linear Differentia...</td>\n",
       "      <td>NaN</td>\n",
       "      <td>NaN</td>\n",
       "      <td>http://www.ams.org/mathscinet/MRAuthorID/552938</td>\n",
       "      <td>NaN</td>\n",
       "    </tr>\n",
       "    <tr>\n",
       "      <th>4</th>\n",
       "      <td>5</td>\n",
       "      <td>Ralph Harry Tripp</td>\n",
       "      <td>1942.0</td>\n",
       "      <td>Iowa State University</td>\n",
       "      <td>UnitedStates</td>\n",
       "      <td>Statical Equilibrium of Skew and Sector-Shaped...</td>\n",
       "      <td>NaN</td>\n",
       "      <td>NaN</td>\n",
       "      <td>http://www.ams.org/mathscinet/MRAuthorID/555156</td>\n",
       "      <td>NaN</td>\n",
       "    </tr>\n",
       "  </tbody>\n",
       "</table>\n",
       "</div>"
      ],
      "text/plain": [
       "   Id                     Name    Year             University       Country  \\\n",
       "0   1  Ernest Willard Anderson  1933.0  Iowa State University  UnitedStates   \n",
       "1   2           Archie  Higdon  1936.0  Iowa State University  UnitedStates   \n",
       "2   3         Donald Hill Rock  1939.0  Iowa State University  UnitedStates   \n",
       "3   4    Charles Joseph Thorne  1941.0  Iowa State University  UnitedStates   \n",
       "4   5        Ralph Harry Tripp  1942.0  Iowa State University  UnitedStates   \n",
       "\n",
       "                                               Title  \\\n",
       "0  Statics of Special Types of Homogeneous Elasti...   \n",
       "1    Stresses in Moderately Thick Rectangular Plates   \n",
       "2           Finite Strain Analysis in Elastic Theory   \n",
       "3  The Approximate Solution of Linear Differentia...   \n",
       "4  Statical Equilibrium of Skew and Sector-Shaped...   \n",
       "\n",
       "                                                 MSC  BIO  \\\n",
       "0  Mathematics Subject Classification@ 74—Mechani...  NaN   \n",
       "1  Mathematics Subject Classification@ 74—Mechani...  NaN   \n",
       "2                                                NaN  NaN   \n",
       "3                                                NaN  NaN   \n",
       "4                                                NaN  NaN   \n",
       "\n",
       "                                               MSN Dblp_Link  \n",
       "0                                              NaN       NaN  \n",
       "1                                              NaN       NaN  \n",
       "2  http://www.ams.org/mathscinet/MRAuthorID/527409       NaN  \n",
       "3  http://www.ams.org/mathscinet/MRAuthorID/552938       NaN  \n",
       "4  http://www.ams.org/mathscinet/MRAuthorID/555156       NaN  "
      ]
     },
     "execution_count": 10,
     "metadata": {},
     "output_type": "execute_result"
    }
   ],
   "source": [
    "mgp_nodes.head(5)"
   ]
  },
  {
   "cell_type": "code",
   "execution_count": 11,
   "id": "271486b6",
   "metadata": {},
   "outputs": [],
   "source": [
    "mgp_nodes[\"mathscinet_id\"] = mgp_nodes[\"MSN\"].apply(lambda x : x.rsplit(\"/\")[-1] if type(x)==str else x)\n",
    "#mathscinet2mgpid = dict(zip(mgp_nodes[\"mathscinet_id\"], mgp_nodes[\"Id\"]))"
   ]
  },
  {
   "cell_type": "code",
   "execution_count": 12,
   "id": "ffe863be",
   "metadata": {},
   "outputs": [],
   "source": [
    "mgp_nodes[\"item_type\"] = \"Thesis\""
   ]
  },
  {
   "cell_type": "code",
   "execution_count": 13,
   "id": "3519f9ac",
   "metadata": {},
   "outputs": [],
   "source": [
    "#mgp_nodes[[\"Id\",\"mathscinet_id\"]].sample(5)"
   ]
  },
  {
   "cell_type": "code",
   "execution_count": 14,
   "id": "36e57b8e",
   "metadata": {},
   "outputs": [
    {
     "data": {
      "text/plain": [
       "Index(['Id', 'Name', 'Year', 'University', 'Country', 'Title', 'MSC', 'BIO',\n",
       "       'MSN', 'Dblp_Link', 'mathscinet_id', 'item_type'],\n",
       "      dtype='object')"
      ]
     },
     "execution_count": 14,
     "metadata": {},
     "output_type": "execute_result"
    }
   ],
   "source": [
    "mgp_nodes.columns"
   ]
  },
  {
   "cell_type": "code",
   "execution_count": 15,
   "id": "45be1024",
   "metadata": {},
   "outputs": [
    {
     "data": {
      "text/plain": [
       "Index(['author_id', 'title', 'authors', 'msc_code', 'item_type',\n",
       "       'journal_name', 'publication_year'],\n",
       "      dtype='object')"
      ]
     },
     "execution_count": 15,
     "metadata": {},
     "output_type": "execute_result"
    }
   ],
   "source": [
    "publication.columns"
   ]
  },
  {
   "cell_type": "code",
   "execution_count": 16,
   "id": "695f54c1",
   "metadata": {},
   "outputs": [],
   "source": [
    "columns = [\"mathscinet_id\",\"Title\",\"Name\",\"MSC\",\"item_type\",\"University\",\"Year\"]"
   ]
  },
  {
   "cell_type": "code",
   "execution_count": 17,
   "id": "aa107a0c",
   "metadata": {},
   "outputs": [],
   "source": [
    "mgp_thesis = mgp_nodes[columns].copy()"
   ]
  },
  {
   "cell_type": "code",
   "execution_count": 18,
   "id": "ecb0c900",
   "metadata": {},
   "outputs": [],
   "source": [
    "rename_columns = {\"mathscinet_id\": \"author_id\", \"Title\":\"title\", \"Name\": \"authors\",\"MSC\":\"msc_code\",\"University\":\"journal_name\",\"Year\":\"publication_year\"}"
   ]
  },
  {
   "cell_type": "code",
   "execution_count": 19,
   "id": "f8b13c84",
   "metadata": {},
   "outputs": [
    {
     "data": {
      "text/plain": [
       "{'mathscinet_id': 'author_id',\n",
       " 'Title': 'title',\n",
       " 'Name': 'authors',\n",
       " 'MSC': 'msc_code',\n",
       " 'University': 'journal_name',\n",
       " 'Year': 'publication_year'}"
      ]
     },
     "execution_count": 19,
     "metadata": {},
     "output_type": "execute_result"
    }
   ],
   "source": [
    "rename_columns"
   ]
  },
  {
   "cell_type": "code",
   "execution_count": 20,
   "id": "6e2498f8",
   "metadata": {},
   "outputs": [],
   "source": [
    "mgp_thesis = mgp_thesis.rename(columns=rename_columns)"
   ]
  },
  {
   "cell_type": "code",
   "execution_count": 21,
   "id": "7d31141f",
   "metadata": {},
   "outputs": [
    {
     "data": {
      "text/plain": [
       "array([ True,  True,  True,  True,  True,  True,  True])"
      ]
     },
     "execution_count": 21,
     "metadata": {},
     "output_type": "execute_result"
    }
   ],
   "source": [
    "mgp_thesis.columns == publication.columns"
   ]
  },
  {
   "cell_type": "code",
   "execution_count": 22,
   "id": "e6e9dbfc",
   "metadata": {},
   "outputs": [],
   "source": [
    "mgp_thesis[\"authors\"]= mgp_thesis[\"authors\"].apply(lambda x: [x])"
   ]
  },
  {
   "cell_type": "code",
   "execution_count": 23,
   "id": "2e8e9ae3",
   "metadata": {},
   "outputs": [
    {
     "data": {
      "text/plain": [
       "(2703851, 7)"
      ]
     },
     "execution_count": 23,
     "metadata": {},
     "output_type": "execute_result"
    }
   ],
   "source": [
    "publication.shape"
   ]
  },
  {
   "cell_type": "code",
   "execution_count": 24,
   "id": "ccd80987",
   "metadata": {},
   "outputs": [],
   "source": [
    "frames = [publication, mgp_thesis]"
   ]
  },
  {
   "cell_type": "code",
   "execution_count": 25,
   "id": "bb37862e",
   "metadata": {},
   "outputs": [],
   "source": [
    "publ_theis_title = pd.concat(frames)"
   ]
  },
  {
   "cell_type": "code",
   "execution_count": 26,
   "id": "864a940f",
   "metadata": {},
   "outputs": [
    {
     "data": {
      "text/plain": [
       "(2972504, 7)"
      ]
     },
     "execution_count": 26,
     "metadata": {},
     "output_type": "execute_result"
    }
   ],
   "source": [
    "publ_theis_title.shape"
   ]
  },
  {
   "cell_type": "code",
   "execution_count": 27,
   "id": "c7ee3b56",
   "metadata": {},
   "outputs": [],
   "source": [
    "publ_theis_title.to_pickle(folder+\"final_mathscinet_publs_included_remaining_publ_processed_with_thesis_title.pkl\")"
   ]
  },
  {
   "cell_type": "code",
   "execution_count": null,
   "id": "bab67d14",
   "metadata": {},
   "outputs": [],
   "source": [
    "##### END HERE ######################################################"
   ]
  },
  {
   "cell_type": "code",
   "execution_count": null,
   "id": "1d67519c",
   "metadata": {},
   "outputs": [],
   "source": []
  },
  {
   "cell_type": "code",
   "execution_count": null,
   "id": "177dbca8",
   "metadata": {},
   "outputs": [],
   "source": []
  },
  {
   "cell_type": "code",
   "execution_count": null,
   "id": "54a8edd7",
   "metadata": {},
   "outputs": [],
   "source": []
  },
  {
   "cell_type": "code",
   "execution_count": 6,
   "id": "f2d4a9f9",
   "metadata": {},
   "outputs": [],
   "source": [
    "# publication = pd.read_pickle(folder+\"final_mathscinet_publs_included_remaining_publ_processed_with_thesis_title.pkl\")"
   ]
  },
  {
   "cell_type": "code",
   "execution_count": 83,
   "id": "e978768f",
   "metadata": {},
   "outputs": [],
   "source": [
    "#publ_theis_title[(publ_theis_title[\"publication_year\"]==1970) & (~publ_theis_title[\"author_id\"].isnull())]"
   ]
  },
  {
   "cell_type": "code",
   "execution_count": 84,
   "id": "27e70e9a",
   "metadata": {},
   "outputs": [],
   "source": [
    "#publication[publication[\"author_id\"]==\"249464\"]"
   ]
  },
  {
   "cell_type": "code",
   "execution_count": 194,
   "id": "45a2646f",
   "metadata": {},
   "outputs": [
    {
     "data": {
      "text/plain": [
       "(2703851, 7)"
      ]
     },
     "execution_count": 194,
     "metadata": {},
     "output_type": "execute_result"
    }
   ],
   "source": [
    "publication.shape"
   ]
  },
  {
   "cell_type": "code",
   "execution_count": 195,
   "id": "5300ce9d",
   "metadata": {},
   "outputs": [
    {
     "data": {
      "text/plain": [
       "numpy.float64"
      ]
     },
     "execution_count": 195,
     "metadata": {},
     "output_type": "execute_result"
    }
   ],
   "source": [
    "type(publ_theis_title[\"publication_year\"].values[0])"
   ]
  },
  {
   "cell_type": "code",
   "execution_count": 196,
   "id": "e5f22e53",
   "metadata": {},
   "outputs": [],
   "source": [
    "#publication[\"publication_year\"] =  pd.to_datetime(publication[\"publication_year\"])"
   ]
  },
  {
   "cell_type": "code",
   "execution_count": 197,
   "id": "fc9335d9",
   "metadata": {},
   "outputs": [],
   "source": [
    "#publication[\"publication_year\"].dt.year[0]"
   ]
  },
  {
   "cell_type": "code",
   "execution_count": 198,
   "id": "0e8f4b3c",
   "metadata": {},
   "outputs": [
    {
     "data": {
      "text/plain": [
       "numpy.float64"
      ]
     },
     "execution_count": 198,
     "metadata": {},
     "output_type": "execute_result"
    }
   ],
   "source": [
    "type(mgp_nodes[\"Year\"].values[0])"
   ]
  },
  {
   "cell_type": "code",
   "execution_count": 36,
   "id": "bec11ec3",
   "metadata": {},
   "outputs": [],
   "source": [
    "#mgp_nodes.sample(5)"
   ]
  },
  {
   "cell_type": "code",
   "execution_count": 44,
   "id": "f4bcc6a2",
   "metadata": {},
   "outputs": [],
   "source": [
    "#mgp_nodes[mgp_nodes[\"Id\"]==23301]"
   ]
  },
  {
   "cell_type": "code",
   "execution_count": 45,
   "id": "a40fde94",
   "metadata": {},
   "outputs": [],
   "source": [
    "#mgp_nodes[mgp_nodes[\"mathscinet_id\"]==\"707853\"]"
   ]
  },
  {
   "cell_type": "code",
   "execution_count": 199,
   "id": "89289dd8",
   "metadata": {},
   "outputs": [],
   "source": [
    "mgpid2_cy = dict(zip(mgp_nodes[\"Id\"],mgp_nodes[\"Year\"]))\n",
    "mgp_nodes[\"mathscinet_id\"] = mgp_nodes[\"MSN\"].apply(lambda x : x.rsplit(\"/\")[-1] if type(x)==str else x)\n",
    "mathscinet2mgpid = dict(zip(mgp_nodes[\"mathscinet_id\"], mgp_nodes[\"Id\"]))\n",
    "#publication[\"yearwise_titles\"]= publication[\"yearwise_titles\"].apply(lambda x : \" \".join(x))\n",
    "publ_theis_title[\"mgp_id\"]= publ_theis_title[\"author_id\"].map(mathscinet2mgpid)"
   ]
  },
  {
   "cell_type": "code",
   "execution_count": 200,
   "id": "9e7e64a7",
   "metadata": {},
   "outputs": [],
   "source": [
    "# publication.sample(5)"
   ]
  },
  {
   "cell_type": "code",
   "execution_count": 201,
   "id": "caa968fe",
   "metadata": {},
   "outputs": [],
   "source": [
    "def constrained_publication_extract(group, publication, years):\n",
    "    grp_titles = None\n",
    "    if type(group)==list or type(group)==tuple:\n",
    "        grp_publ= publication[publication[\"mgp_id\"].isin(group)].copy()\n",
    "        tmp = []\n",
    "        advisor_publ = grp_publ[(grp_publ[\"mgp_id\"]==group[0]) & (grp_publ[\"publication_year\"] >= years[0])]\n",
    "        if advisor_publ.shape[0] > 0: \n",
    "            tmp.append(advisor_publ)\n",
    "        for grp_memeber, year in zip(group[1:],years[1:]):\n",
    "            advisees_publ = grp_publ[(grp_publ[\"mgp_id\"]==grp_memeber) & (grp_publ[\"publication_year\"] <= year)]\n",
    "            if advisees_publ.shape[0] > 0:\n",
    "                tmp.append(advisees_publ)\n",
    "        if len(tmp) > 0:\n",
    "            grp_data = pd.concat(tmp)\n",
    "            grp_data[\"yearwise_titles\"]= grp_data[\"yearwise_titles\"].apply(lambda x : \" \".join(x))\n",
    "            yearwise_grp_publ = grp_data.groupby([\"mgp_id\",\"publication_year\"])['yearwise_titles'].apply(list).reset_index(name='group_yearwise_titles').copy()\n",
    "            yearwise_grp_publ.sort_values('publication_year', inplace=True)\n",
    "            grp_titles = [(\" \".join(yearwise), year) for yearwise, year in yearwise_grp_publ[[\"group_yearwise_titles\",\"publication_year\"]].values]\n",
    "        else:\n",
    "            grp_titles = []\n",
    "    return grp_titles"
   ]
  },
  {
   "cell_type": "code",
   "execution_count": null,
   "id": "decf9514",
   "metadata": {},
   "outputs": [],
   "source": []
  },
  {
   "cell_type": "code",
   "execution_count": 202,
   "id": "463863a4",
   "metadata": {},
   "outputs": [],
   "source": [
    "publication1 = publ_theis_title.groupby([\"author_id\",\"publication_year\"])['title'].apply(list).reset_index(name='yearwise_titles').copy()"
   ]
  },
  {
   "cell_type": "code",
   "execution_count": 203,
   "id": "661f57cc",
   "metadata": {},
   "outputs": [],
   "source": [
    "publication1[\"mgp_id\"]= publication1[\"author_id\"].map(mathscinet2mgpid)"
   ]
  },
  {
   "cell_type": "code",
   "execution_count": 204,
   "id": "a3959652",
   "metadata": {},
   "outputs": [],
   "source": [
    "# publication1[\"publication_year\"] =  pd.to_datetime(publication1[\"publication_year\"])\n",
    "# publication1[\"publication_year\"] =  publication1[\"publication_year\"].dt.year"
   ]
  },
  {
   "cell_type": "code",
   "execution_count": 205,
   "id": "25e33150",
   "metadata": {},
   "outputs": [
    {
     "data": {
      "text/plain": [
       "(1390579, 4)"
      ]
     },
     "execution_count": 205,
     "metadata": {},
     "output_type": "execute_result"
    }
   ],
   "source": [
    "publication1.shape"
   ]
  },
  {
   "cell_type": "code",
   "execution_count": 206,
   "id": "d27f7b31",
   "metadata": {},
   "outputs": [],
   "source": [
    "grp = (30480, 77090, 233001, 126605, 135238, 150501)"
   ]
  },
  {
   "cell_type": "code",
   "execution_count": 207,
   "id": "7cb0ccec",
   "metadata": {},
   "outputs": [],
   "source": [
    "years = [1994.0, 2003.0, 2018.0, 2006.0, 2009.0, 2006.0]"
   ]
  },
  {
   "cell_type": "code",
   "execution_count": 212,
   "id": "91836e36",
   "metadata": {},
   "outputs": [
    {
     "data": {
      "text/html": [
       "<div>\n",
       "<style scoped>\n",
       "    .dataframe tbody tr th:only-of-type {\n",
       "        vertical-align: middle;\n",
       "    }\n",
       "\n",
       "    .dataframe tbody tr th {\n",
       "        vertical-align: top;\n",
       "    }\n",
       "\n",
       "    .dataframe thead th {\n",
       "        text-align: right;\n",
       "    }\n",
       "</style>\n",
       "<table border=\"1\" class=\"dataframe\">\n",
       "  <thead>\n",
       "    <tr style=\"text-align: right;\">\n",
       "      <th></th>\n",
       "      <th>author_id</th>\n",
       "      <th>publication_year</th>\n",
       "      <th>yearwise_titles</th>\n",
       "      <th>mgp_id</th>\n",
       "    </tr>\n",
       "  </thead>\n",
       "  <tbody>\n",
       "    <tr>\n",
       "      <th>189</th>\n",
       "      <td>100035</td>\n",
       "      <td>1970.0</td>\n",
       "      <td>[Pre-measures on lattices of sets.]</td>\n",
       "      <td>493.0</td>\n",
       "    </tr>\n",
       "    <tr>\n",
       "      <th>540</th>\n",
       "      <td>100075</td>\n",
       "      <td>1970.0</td>\n",
       "      <td>[Interlacing methods and large indecomposables...</td>\n",
       "      <td>32935.0</td>\n",
       "    </tr>\n",
       "    <tr>\n",
       "      <th>697</th>\n",
       "      <td>100085</td>\n",
       "      <td>1970.0</td>\n",
       "      <td>[\"Metrically homogeneous sets'': Corrigendum.]</td>\n",
       "      <td>3522.0</td>\n",
       "    </tr>\n",
       "    <tr>\n",
       "      <th>921</th>\n",
       "      <td>100115</td>\n",
       "      <td>1970.0</td>\n",
       "      <td>[Harmonic mixed boundary-value problems in com...</td>\n",
       "      <td>32710.0</td>\n",
       "    </tr>\n",
       "    <tr>\n",
       "      <th>1002</th>\n",
       "      <td>100125</td>\n",
       "      <td>1970.0</td>\n",
       "      <td>[Конечные депи маркова ]</td>\n",
       "      <td>8017.0</td>\n",
       "    </tr>\n",
       "    <tr>\n",
       "      <th>...</th>\n",
       "      <td>...</td>\n",
       "      <td>...</td>\n",
       "      <td>...</td>\n",
       "      <td>...</td>\n",
       "    </tr>\n",
       "    <tr>\n",
       "      <th>1389665</th>\n",
       "      <td>99880</td>\n",
       "      <td>1970.0</td>\n",
       "      <td>[Imbedding of locally unknotted one-dimensiona...</td>\n",
       "      <td>36445.0</td>\n",
       "    </tr>\n",
       "    <tr>\n",
       "      <th>1390038</th>\n",
       "      <td>99920</td>\n",
       "      <td>1970.0</td>\n",
       "      <td>[Distribution theory of spherical distribution...</td>\n",
       "      <td>12800.0</td>\n",
       "    </tr>\n",
       "    <tr>\n",
       "      <th>1390293</th>\n",
       "      <td>99965</td>\n",
       "      <td>1970.0</td>\n",
       "      <td>[Axisymmetric buckling of hollow spheres and h...</td>\n",
       "      <td>12037.0</td>\n",
       "    </tr>\n",
       "    <tr>\n",
       "      <th>1390420</th>\n",
       "      <td>99980</td>\n",
       "      <td>1970.0</td>\n",
       "      <td>[Extremum principles for irreversible processe...</td>\n",
       "      <td>13411.0</td>\n",
       "    </tr>\n",
       "    <tr>\n",
       "      <th>1390531</th>\n",
       "      <td>99990</td>\n",
       "      <td>1970.0</td>\n",
       "      <td>[Bestimmung von Homologiebasen durch Projektio...</td>\n",
       "      <td>18351.0</td>\n",
       "    </tr>\n",
       "  </tbody>\n",
       "</table>\n",
       "<p>8012 rows × 4 columns</p>\n",
       "</div>"
      ],
      "text/plain": [
       "        author_id  publication_year  \\\n",
       "189        100035            1970.0   \n",
       "540        100075            1970.0   \n",
       "697        100085            1970.0   \n",
       "921        100115            1970.0   \n",
       "1002       100125            1970.0   \n",
       "...           ...               ...   \n",
       "1389665     99880            1970.0   \n",
       "1390038     99920            1970.0   \n",
       "1390293     99965            1970.0   \n",
       "1390420     99980            1970.0   \n",
       "1390531     99990            1970.0   \n",
       "\n",
       "                                           yearwise_titles   mgp_id  \n",
       "189                    [Pre-measures on lattices of sets.]    493.0  \n",
       "540      [Interlacing methods and large indecomposables...  32935.0  \n",
       "697         [\"Metrically homogeneous sets'': Corrigendum.]   3522.0  \n",
       "921      [Harmonic mixed boundary-value problems in com...  32710.0  \n",
       "1002                              [Конечные депи маркова ]   8017.0  \n",
       "...                                                    ...      ...  \n",
       "1389665  [Imbedding of locally unknotted one-dimensiona...  36445.0  \n",
       "1390038  [Distribution theory of spherical distribution...  12800.0  \n",
       "1390293  [Axisymmetric buckling of hollow spheres and h...  12037.0  \n",
       "1390420  [Extremum principles for irreversible processe...  13411.0  \n",
       "1390531  [Bestimmung von Homologiebasen durch Projektio...  18351.0  \n",
       "\n",
       "[8012 rows x 4 columns]"
      ]
     },
     "execution_count": 212,
     "metadata": {},
     "output_type": "execute_result"
    }
   ],
   "source": [
    "publication1[publication1[\"publication_year\"]==1970]"
   ]
  },
  {
   "cell_type": "code",
   "execution_count": 209,
   "id": "9bcb6363",
   "metadata": {},
   "outputs": [
    {
     "data": {
      "text/html": [
       "<div>\n",
       "<style scoped>\n",
       "    .dataframe tbody tr th:only-of-type {\n",
       "        vertical-align: middle;\n",
       "    }\n",
       "\n",
       "    .dataframe tbody tr th {\n",
       "        vertical-align: top;\n",
       "    }\n",
       "\n",
       "    .dataframe thead th {\n",
       "        text-align: right;\n",
       "    }\n",
       "</style>\n",
       "<table border=\"1\" class=\"dataframe\">\n",
       "  <thead>\n",
       "    <tr style=\"text-align: right;\">\n",
       "      <th></th>\n",
       "      <th>author_id</th>\n",
       "      <th>publication_year</th>\n",
       "      <th>yearwise_titles</th>\n",
       "      <th>mgp_id</th>\n",
       "    </tr>\n",
       "  </thead>\n",
       "  <tbody>\n",
       "    <tr>\n",
       "      <th>1067952</th>\n",
       "      <td>707853</td>\n",
       "      <td>2003.0</td>\n",
       "      <td>[Method of averaging in constructing asymptoti...</td>\n",
       "      <td>77090.0</td>\n",
       "    </tr>\n",
       "  </tbody>\n",
       "</table>\n",
       "</div>"
      ],
      "text/plain": [
       "        author_id  publication_year  \\\n",
       "1067952    707853            2003.0   \n",
       "\n",
       "                                           yearwise_titles   mgp_id  \n",
       "1067952  [Method of averaging in constructing asymptoti...  77090.0  "
      ]
     },
     "execution_count": 209,
     "metadata": {},
     "output_type": "execute_result"
    }
   ],
   "source": [
    "publication1[publication1[\"author_id\"]==\"707853\"]"
   ]
  },
  {
   "cell_type": "code",
   "execution_count": 213,
   "id": "850fc6cc",
   "metadata": {},
   "outputs": [],
   "source": [
    "grp_publ= publication1[publication1[\"mgp_id\"].isin(grp)].copy()"
   ]
  },
  {
   "cell_type": "code",
   "execution_count": 214,
   "id": "3aa7eab7",
   "metadata": {},
   "outputs": [
    {
     "data": {
      "text/html": [
       "<div>\n",
       "<style scoped>\n",
       "    .dataframe tbody tr th:only-of-type {\n",
       "        vertical-align: middle;\n",
       "    }\n",
       "\n",
       "    .dataframe tbody tr th {\n",
       "        vertical-align: top;\n",
       "    }\n",
       "\n",
       "    .dataframe thead th {\n",
       "        text-align: right;\n",
       "    }\n",
       "</style>\n",
       "<table border=\"1\" class=\"dataframe\">\n",
       "  <thead>\n",
       "    <tr style=\"text-align: right;\">\n",
       "      <th></th>\n",
       "      <th>author_id</th>\n",
       "      <th>publication_year</th>\n",
       "      <th>yearwise_titles</th>\n",
       "      <th>mgp_id</th>\n",
       "    </tr>\n",
       "  </thead>\n",
       "  <tbody>\n",
       "    <tr>\n",
       "      <th>93048</th>\n",
       "      <td>1165748</td>\n",
       "      <td>2016.0</td>\n",
       "      <td>[Graph homology and stability of coupled oscil...</td>\n",
       "      <td>233001.0</td>\n",
       "    </tr>\n",
       "    <tr>\n",
       "      <th>93049</th>\n",
       "      <td>1165748</td>\n",
       "      <td>2018.0</td>\n",
       "      <td>[Stable configurations in social networks., To...</td>\n",
       "      <td>233001.0</td>\n",
       "    </tr>\n",
       "    <tr>\n",
       "      <th>93050</th>\n",
       "      <td>1165748</td>\n",
       "      <td>2020.0</td>\n",
       "      <td>[Volume bounds for the phase-locking region in...</td>\n",
       "      <td>233001.0</td>\n",
       "    </tr>\n",
       "    <tr>\n",
       "      <th>93051</th>\n",
       "      <td>1165748</td>\n",
       "      <td>2021.0</td>\n",
       "      <td>[Algebraic properties of $\\{\\text{\\cyr\\ `E}\\}$...</td>\n",
       "      <td>233001.0</td>\n",
       "    </tr>\n",
       "    <tr>\n",
       "      <th>93052</th>\n",
       "      <td>1165748</td>\n",
       "      <td>2022.0</td>\n",
       "      <td>[Undecidable arithmetic properties of solution...</td>\n",
       "      <td>233001.0</td>\n",
       "    </tr>\n",
       "    <tr>\n",
       "      <th>502960</th>\n",
       "      <td>249464</td>\n",
       "      <td>1988.0</td>\n",
       "      <td>[Logarithmic reduction of the wrapping effect ...</td>\n",
       "      <td>126605.0</td>\n",
       "    </tr>\n",
       "    <tr>\n",
       "      <th>502961</th>\n",
       "      <td>249464</td>\n",
       "      <td>2006.0</td>\n",
       "      <td>[Application of uncertainty inequalities to bo...</td>\n",
       "      <td>126605.0</td>\n",
       "    </tr>\n",
       "    <tr>\n",
       "      <th>502962</th>\n",
       "      <td>249464</td>\n",
       "      <td>2007.0</td>\n",
       "      <td>[A note on a non-local Kuramoto-Sivashinsky eq...</td>\n",
       "      <td>126605.0</td>\n",
       "    </tr>\n",
       "    <tr>\n",
       "      <th>735670</th>\n",
       "      <td>360400</td>\n",
       "      <td>1994.0</td>\n",
       "      <td>[Aspects of Randomness in Nonlinear Wave Propa...</td>\n",
       "      <td>30480.0</td>\n",
       "    </tr>\n",
       "    <tr>\n",
       "      <th>1062385</th>\n",
       "      <td>704409</td>\n",
       "      <td>2002.0</td>\n",
       "      <td>[Formation of quasistationary vortex and trans...</td>\n",
       "      <td>150501.0</td>\n",
       "    </tr>\n",
       "    <tr>\n",
       "      <th>1062386</th>\n",
       "      <td>704409</td>\n",
       "      <td>2006.0</td>\n",
       "      <td>[Particle Spreading in a Majda model and Eigen...</td>\n",
       "      <td>150501.0</td>\n",
       "    </tr>\n",
       "    <tr>\n",
       "      <th>1067952</th>\n",
       "      <td>707853</td>\n",
       "      <td>2003.0</td>\n",
       "      <td>[Method of averaging in constructing asymptoti...</td>\n",
       "      <td>77090.0</td>\n",
       "    </tr>\n",
       "    <tr>\n",
       "      <th>1279919</th>\n",
       "      <td>869237</td>\n",
       "      <td>2009.0</td>\n",
       "      <td>[On the Stability of Periodic Solutions of Non...</td>\n",
       "      <td>135238.0</td>\n",
       "    </tr>\n",
       "    <tr>\n",
       "      <th>1279920</th>\n",
       "      <td>869237</td>\n",
       "      <td>2015.0</td>\n",
       "      <td>[Modulational instability in the Whitham equat...</td>\n",
       "      <td>135238.0</td>\n",
       "    </tr>\n",
       "    <tr>\n",
       "      <th>1279921</th>\n",
       "      <td>869237</td>\n",
       "      <td>2016.0</td>\n",
       "      <td>[Modulational instability in equations of KdV ...</td>\n",
       "      <td>135238.0</td>\n",
       "    </tr>\n",
       "    <tr>\n",
       "      <th>1279922</th>\n",
       "      <td>869237</td>\n",
       "      <td>2017.0</td>\n",
       "      <td>[Oscillation estimates of eigenfunctions via t...</td>\n",
       "      <td>135238.0</td>\n",
       "    </tr>\n",
       "    <tr>\n",
       "      <th>1279923</th>\n",
       "      <td>869237</td>\n",
       "      <td>2018.0</td>\n",
       "      <td>[Numerical bifurcation and spectral stability ...</td>\n",
       "      <td>135238.0</td>\n",
       "    </tr>\n",
       "    <tr>\n",
       "      <th>1279924</th>\n",
       "      <td>869237</td>\n",
       "      <td>2019.0</td>\n",
       "      <td>[On the bifurcation diagram of the capillary-g...</td>\n",
       "      <td>135238.0</td>\n",
       "    </tr>\n",
       "    <tr>\n",
       "      <th>1279925</th>\n",
       "      <td>869237</td>\n",
       "      <td>2020.0</td>\n",
       "      <td>[Generalized solitary waves in the gravity-cap...</td>\n",
       "      <td>135238.0</td>\n",
       "    </tr>\n",
       "    <tr>\n",
       "      <th>1279926</th>\n",
       "      <td>869237</td>\n",
       "      <td>2021.0</td>\n",
       "      <td>[Stability of traveling wave solutions of nonl...</td>\n",
       "      <td>135238.0</td>\n",
       "    </tr>\n",
       "    <tr>\n",
       "      <th>1279927</th>\n",
       "      <td>869237</td>\n",
       "      <td>2022.0</td>\n",
       "      <td>[Subharmonic dynamics of wave trains in the Ko...</td>\n",
       "      <td>135238.0</td>\n",
       "    </tr>\n",
       "  </tbody>\n",
       "</table>\n",
       "</div>"
      ],
      "text/plain": [
       "        author_id  publication_year  \\\n",
       "93048     1165748            2016.0   \n",
       "93049     1165748            2018.0   \n",
       "93050     1165748            2020.0   \n",
       "93051     1165748            2021.0   \n",
       "93052     1165748            2022.0   \n",
       "502960     249464            1988.0   \n",
       "502961     249464            2006.0   \n",
       "502962     249464            2007.0   \n",
       "735670     360400            1994.0   \n",
       "1062385    704409            2002.0   \n",
       "1062386    704409            2006.0   \n",
       "1067952    707853            2003.0   \n",
       "1279919    869237            2009.0   \n",
       "1279920    869237            2015.0   \n",
       "1279921    869237            2016.0   \n",
       "1279922    869237            2017.0   \n",
       "1279923    869237            2018.0   \n",
       "1279924    869237            2019.0   \n",
       "1279925    869237            2020.0   \n",
       "1279926    869237            2021.0   \n",
       "1279927    869237            2022.0   \n",
       "\n",
       "                                           yearwise_titles    mgp_id  \n",
       "93048    [Graph homology and stability of coupled oscil...  233001.0  \n",
       "93049    [Stable configurations in social networks., To...  233001.0  \n",
       "93050    [Volume bounds for the phase-locking region in...  233001.0  \n",
       "93051    [Algebraic properties of $\\{\\text{\\cyr\\ `E}\\}$...  233001.0  \n",
       "93052    [Undecidable arithmetic properties of solution...  233001.0  \n",
       "502960   [Logarithmic reduction of the wrapping effect ...  126605.0  \n",
       "502961   [Application of uncertainty inequalities to bo...  126605.0  \n",
       "502962   [A note on a non-local Kuramoto-Sivashinsky eq...  126605.0  \n",
       "735670   [Aspects of Randomness in Nonlinear Wave Propa...   30480.0  \n",
       "1062385  [Formation of quasistationary vortex and trans...  150501.0  \n",
       "1062386  [Particle Spreading in a Majda model and Eigen...  150501.0  \n",
       "1067952  [Method of averaging in constructing asymptoti...   77090.0  \n",
       "1279919  [On the Stability of Periodic Solutions of Non...  135238.0  \n",
       "1279920  [Modulational instability in the Whitham equat...  135238.0  \n",
       "1279921  [Modulational instability in equations of KdV ...  135238.0  \n",
       "1279922  [Oscillation estimates of eigenfunctions via t...  135238.0  \n",
       "1279923  [Numerical bifurcation and spectral stability ...  135238.0  \n",
       "1279924  [On the bifurcation diagram of the capillary-g...  135238.0  \n",
       "1279925  [Generalized solitary waves in the gravity-cap...  135238.0  \n",
       "1279926  [Stability of traveling wave solutions of nonl...  135238.0  \n",
       "1279927  [Subharmonic dynamics of wave trains in the Ko...  135238.0  "
      ]
     },
     "execution_count": 214,
     "metadata": {},
     "output_type": "execute_result"
    }
   ],
   "source": [
    "grp_publ"
   ]
  },
  {
   "cell_type": "code",
   "execution_count": 215,
   "id": "7df51765",
   "metadata": {},
   "outputs": [
    {
     "data": {
      "text/plain": [
       "[('Logarithmic reduction of the wrapping effect with application to ordinary differential equations.',\n",
       "  1988.0),\n",
       " ('Aspects of Randomness in Nonlinear Wave Propagation', 1994.0),\n",
       " ('Formation of quasistationary vortex and transient hole patterns through vortex merger.',\n",
       "  2002.0),\n",
       " ('Method of averaging in constructing asymptotics of solutions of systems of linear difference equations. Asymptotic behavior of solutions of some linear difference equations with oscillatory decreasing coefficients. Method of Averaging in Constructing Asymptotics of Solutions of Systems of Linear Difference Equations',\n",
       "  2003.0),\n",
       " ('Application of uncertainty inequalities to bound the radius of the attractor for the Kuramoto-Sivashinsky equation. Uncertainty estimates and $L_2$ bounds for the Kuramoto-Sivashinsky equation. Improved L_2 Bounds for the Kuramoto-Sivashinsky Equation',\n",
       "  2006.0),\n",
       " ('Particle Spreading in a Majda model and Eigenvalue Estimation', 2006.0),\n",
       " ('On the Stability of Periodic Solutions of Nonlinear Dispersive Equations',\n",
       "  2009.0),\n",
       " ('Graph homology and stability of coupled oscillator networks.', 2016.0),\n",
       " ('Stable configurations in social networks. Topological states in the Kuramoto model. Volume bounds for the phase-locking region in the Kuramoto model. Dynamical Systems on Networks',\n",
       "  2018.0)]"
      ]
     },
     "execution_count": 215,
     "metadata": {},
     "output_type": "execute_result"
    }
   ],
   "source": [
    "constrained_publication_extract(grp, publication1, years)"
   ]
  },
  {
   "cell_type": "code",
   "execution_count": null,
   "id": "03b48e4f",
   "metadata": {},
   "outputs": [],
   "source": []
  }
 ],
 "metadata": {
  "kernelspec": {
   "display_name": "Python 3",
   "language": "python",
   "name": "python3"
  },
  "language_info": {
   "codemirror_mode": {
    "name": "ipython",
    "version": 3
   },
   "file_extension": ".py",
   "mimetype": "text/x-python",
   "name": "python",
   "nbconvert_exporter": "python",
   "pygments_lexer": "ipython3",
   "version": "3.8.11"
  }
 },
 "nbformat": 4,
 "nbformat_minor": 5
}
