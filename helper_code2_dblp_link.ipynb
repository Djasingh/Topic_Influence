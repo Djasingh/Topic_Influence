{
 "cells": [
  {
   "cell_type": "code",
   "execution_count": 1,
   "id": "05f5ff40",
   "metadata": {},
   "outputs": [],
   "source": [
    "import pandas as pd\n",
    "import json"
   ]
  },
  {
   "cell_type": "code",
   "execution_count": 2,
   "id": "39a9d0bf",
   "metadata": {},
   "outputs": [],
   "source": [
    "folder = \"../data/mgp_data/\""
   ]
  },
  {
   "cell_type": "code",
   "execution_count": 3,
   "id": "526d2339",
   "metadata": {},
   "outputs": [],
   "source": [
    "publication = pd.read_csv(folder+\"dblp_publication_data_for_mgp_researchers.csv\")"
   ]
  },
  {
   "cell_type": "code",
   "execution_count": 4,
   "id": "63c434c3",
   "metadata": {},
   "outputs": [
    {
     "data": {
      "text/plain": [
       "(3140415, 6)"
      ]
     },
     "execution_count": 4,
     "metadata": {},
     "output_type": "execute_result"
    }
   ],
   "source": [
    "publication.shape"
   ]
  },
  {
   "cell_type": "code",
   "execution_count": 5,
   "id": "7db2ee96",
   "metadata": {},
   "outputs": [],
   "source": [
    "with open(folder+\"dblp_url_to_mgp_id.json\") as f1:\n",
    "    url_mgpId = json.load(f1)"
   ]
  },
  {
   "cell_type": "code",
   "execution_count": 6,
   "id": "92000161",
   "metadata": {},
   "outputs": [],
   "source": [
    "def return_url(idd):\n",
    "    dblp_url = None\n",
    "    for (key1, val1)  in url_mgpId.items():\n",
    "        if  val1 == idd:\n",
    "            dblp_url = key1\n",
    "    return dblp_url"
   ]
  },
  {
   "cell_type": "code",
   "execution_count": 7,
   "id": "8ac384d0",
   "metadata": {},
   "outputs": [],
   "source": [
    "mgp_nodes = pd.read_csv(folder+\"mgpnodeList_with_year_completion_updated_with_complete_dblp_link.csv\", lineterminator=\"\\n\", low_memory=False)"
   ]
  },
  {
   "cell_type": "code",
   "execution_count": 8,
   "id": "669865d4",
   "metadata": {},
   "outputs": [],
   "source": [
    "#mgp_nodes[mgp_nodes['Dblp_Link'].notnull()]['MSN'].notnull().sum()"
   ]
  },
  {
   "cell_type": "code",
   "execution_count": 9,
   "id": "b0cef77c",
   "metadata": {},
   "outputs": [
    {
     "data": {
      "text/plain": [
       "121863"
      ]
     },
     "execution_count": 9,
     "metadata": {},
     "output_type": "execute_result"
    }
   ],
   "source": [
    "mgp_nodes['Dblp_Link'].notnull().sum()"
   ]
  },
  {
   "cell_type": "code",
   "execution_count": 15,
   "id": "d7085643",
   "metadata": {},
   "outputs": [
    {
     "data": {
      "text/plain": [
       "Index(['Id', 'Name', 'Year', 'University', 'Country', 'Title', 'MSC', 'BIO',\n",
       "       'MSN', 'combined_input', 'nodeid', 'input_connected', 'input_edgelist',\n",
       "       'input_node_years', 'input_length', 'combined_output', 'output_seq',\n",
       "       'output_uniq_seq', 'output_years', 'output_uniq_len', 'tree_edges',\n",
       "       'Dblp_Link'],\n",
       "      dtype='object')"
      ]
     },
     "execution_count": 15,
     "metadata": {},
     "output_type": "execute_result"
    }
   ],
   "source": [
    "mgp_nodes.columns"
   ]
  },
  {
   "cell_type": "code",
   "execution_count": 11,
   "id": "0cefeb4d",
   "metadata": {},
   "outputs": [],
   "source": [
    "mgp_nodes['Dblp_Link'] = mgp_nodes['Id'].apply(lambda x : return_url(x))"
   ]
  },
  {
   "cell_type": "code",
   "execution_count": 41,
   "id": "ec7a5909",
   "metadata": {},
   "outputs": [
    {
     "data": {
      "text/plain": [
       "115000"
      ]
     },
     "execution_count": 41,
     "metadata": {},
     "output_type": "execute_result"
    }
   ],
   "source": [
    "mgp_nodes['Dblp_Link'].notnull().sum()"
   ]
  },
  {
   "cell_type": "code",
   "execution_count": 16,
   "id": "084d3ecd",
   "metadata": {},
   "outputs": [],
   "source": [
    "mgp_nodes_mod = mgp_nodes[['Id', 'Name', 'Year', 'University', 'Country', 'Title', 'MSC', 'BIO','MSN','Dblp_Link']].copy()"
   ]
  },
  {
   "cell_type": "code",
   "execution_count": 17,
   "id": "9b8fffee",
   "metadata": {},
   "outputs": [
    {
     "data": {
      "text/plain": [
       "(268653, 10)"
      ]
     },
     "execution_count": 17,
     "metadata": {},
     "output_type": "execute_result"
    }
   ],
   "source": [
    "mgp_nodes_mod.shape"
   ]
  },
  {
   "cell_type": "code",
   "execution_count": 19,
   "id": "660dd749",
   "metadata": {},
   "outputs": [],
   "source": [
    "mgp_nodes_mod.to_csv(folder+\"mgpnodeList_with_year_completion_updated_with_mod_dblp_link.csv\", index=False)"
   ]
  },
  {
   "cell_type": "code",
   "execution_count": null,
   "id": "111d47ea",
   "metadata": {},
   "outputs": [],
   "source": [
    "mgp_nodes['Dblp_Link']"
   ]
  }
 ],
 "metadata": {
  "kernelspec": {
   "display_name": "Python 3 (ipykernel)",
   "language": "python",
   "name": "python3"
  },
  "language_info": {
   "codemirror_mode": {
    "name": "ipython",
    "version": 3
   },
   "file_extension": ".py",
   "mimetype": "text/x-python",
   "name": "python",
   "nbconvert_exporter": "python",
   "pygments_lexer": "ipython3",
   "version": "3.8.13"
  }
 },
 "nbformat": 4,
 "nbformat_minor": 5
}
