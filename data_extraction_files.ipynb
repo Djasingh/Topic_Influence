{
 "cells": [
  {
   "cell_type": "code",
   "execution_count": 1,
   "id": "4abdcf31",
   "metadata": {},
   "outputs": [],
   "source": [
    "import re\n",
    "import pickle\n",
    "import numpy as np\n",
    "import pandas as pd\n",
    "from glob import glob"
   ]
  },
  {
   "cell_type": "code",
   "execution_count": 2,
   "id": "9b51f4bc",
   "metadata": {},
   "outputs": [],
   "source": [
    "mscinet_pages = glob(\"../mathscinet/publication_pages/*.html\")\n",
    "mscinet_ids = [page.rsplit(\"/\")[-1].split(\"_\")[-1].replace(\".html\",\"\") for page in mscinet_pages]"
   ]
  },
  {
   "cell_type": "code",
   "execution_count": 3,
   "id": "2455a008",
   "metadata": {},
   "outputs": [],
   "source": [
    "data_folder = \"../data/mgp_data/\""
   ]
  },
  {
   "cell_type": "code",
   "execution_count": 4,
   "id": "fdfa7cc6",
   "metadata": {},
   "outputs": [],
   "source": [
    "mathscinet = pd.read_csv(data_folder+\"info_mathscinet.csv\")\n",
    "mathscinet[\"avl\"] = mathscinet[\"mscinet_id\"].isin(mscinet_ids)\n",
    "mathscinet_mod = mathscinet[mathscinet[\"avl\"]==False].copy()"
   ]
  },
  {
   "cell_type": "code",
   "execution_count": 9,
   "id": "b9a5c108",
   "metadata": {},
   "outputs": [],
   "source": [
    "scrape_data = mathscinet_mod.iloc[2000:].copy()"
   ]
  },
  {
   "cell_type": "code",
   "execution_count": 10,
   "id": "b6d1e676",
   "metadata": {},
   "outputs": [],
   "source": [
    "scrape_data[[\"publ_url_only\",\"related_publ\"]] = scrape_data[\"publ_url\"].str.split(',', 1, expand=True)"
   ]
  },
  {
   "cell_type": "code",
   "execution_count": 11,
   "id": "adea59fb",
   "metadata": {},
   "outputs": [],
   "source": [
    "scrape_data.loc[scrape_data[\"publ_url_only\"].isna(),\"publ_url_only\"] = \"\""
   ]
  },
  {
   "cell_type": "code",
   "execution_count": 12,
   "id": "40af982b",
   "metadata": {},
   "outputs": [],
   "source": [
    "scrape_data[\"publication_url\"]= scrape_data[\"publ_url_only\"].apply(lambda x : \"https://mathscinet.ams.org/mathscinet/search\"+x.lstrip(\".\") if x!=\"\" else x)"
   ]
  },
  {
   "cell_type": "code",
   "execution_count": 13,
   "id": "2025fc4e",
   "metadata": {},
   "outputs": [],
   "source": [
    "extract_publ_data = scrape_data[~(scrape_data[\"publication_url\"]==\"\")].copy()"
   ]
  },
  {
   "cell_type": "code",
   "execution_count": 14,
   "id": "87f2b705",
   "metadata": {},
   "outputs": [
    {
     "data": {
      "text/plain": [
       "(141342, 17)"
      ]
     },
     "execution_count": 14,
     "metadata": {},
     "output_type": "execute_result"
    }
   ],
   "source": [
    "extract_publ_data.shape"
   ]
  },
  {
   "cell_type": "code",
   "execution_count": 16,
   "id": "4a0cd061",
   "metadata": {},
   "outputs": [],
   "source": [
    "file1 = extract_publ_data.iloc[0:30000][\"publication_url\"]"
   ]
  },
  {
   "cell_type": "code",
   "execution_count": 17,
   "id": "ff55dae7",
   "metadata": {},
   "outputs": [],
   "source": [
    "file2 = extract_publ_data.iloc[30000:60000][\"publication_url\"]"
   ]
  },
  {
   "cell_type": "code",
   "execution_count": 18,
   "id": "fb8c96a3",
   "metadata": {},
   "outputs": [],
   "source": [
    "file3 = extract_publ_data.iloc[60000:90000][\"publication_url\"]"
   ]
  },
  {
   "cell_type": "code",
   "execution_count": 19,
   "id": "4e5d3f1c",
   "metadata": {},
   "outputs": [],
   "source": [
    "file4 = extract_publ_data.iloc[90000:120000][\"publication_url\"]"
   ]
  },
  {
   "cell_type": "code",
   "execution_count": 20,
   "id": "56927567",
   "metadata": {},
   "outputs": [],
   "source": [
    "file5 = extract_publ_data.iloc[120000:][\"publication_url\"]"
   ]
  },
  {
   "cell_type": "code",
   "execution_count": 26,
   "id": "94171847",
   "metadata": {},
   "outputs": [],
   "source": [
    "file1.to_csv(\"~/Desktop/Publ_files/Jayanta_Das.csv\", index=False)"
   ]
  },
  {
   "cell_type": "code",
   "execution_count": 27,
   "id": "8513205d",
   "metadata": {},
   "outputs": [],
   "source": [
    "file2.to_csv(\"~/Desktop/Publ_files/Ananya_Guha.csv\", index=False)"
   ]
  },
  {
   "cell_type": "code",
   "execution_count": 30,
   "id": "1e2dd9b2",
   "metadata": {},
   "outputs": [],
   "source": [
    "file3.to_csv(\"~/Desktop/Publ_files/file3.csv\", index=False)"
   ]
  },
  {
   "cell_type": "code",
   "execution_count": 31,
   "id": "be5caa3b",
   "metadata": {},
   "outputs": [],
   "source": [
    "file4.to_csv(\"~/Desktop/Publ_files/file4.csv\", index=False)"
   ]
  },
  {
   "cell_type": "code",
   "execution_count": 32,
   "id": "aae32e0a",
   "metadata": {},
   "outputs": [],
   "source": [
    "file5.to_csv(\"~/Desktop/Publ_files/Dhananjay.csv\", index=False)"
   ]
  },
  {
   "cell_type": "code",
   "execution_count": 34,
   "id": "193064bd",
   "metadata": {},
   "outputs": [
    {
     "data": {
      "text/plain": [
       "'https://mathscinet.ams.org/mathscinet/search/publications.html?pg1=INDI&s1=898882'"
      ]
     },
     "execution_count": 34,
     "metadata": {},
     "output_type": "execute_result"
    }
   ],
   "source": [
    "file1.iloc[0]"
   ]
  },
  {
   "cell_type": "code",
   "execution_count": 35,
   "id": "0bda6b49",
   "metadata": {},
   "outputs": [
    {
     "data": {
      "text/plain": [
       "'https://mathscinet.ams.org/mathscinet/search/publications.html?pg1=INDI&s1=813227'"
      ]
     },
     "execution_count": 35,
     "metadata": {},
     "output_type": "execute_result"
    }
   ],
   "source": [
    "file2.iloc[0]"
   ]
  },
  {
   "cell_type": "code",
   "execution_count": 36,
   "id": "1cd950fb",
   "metadata": {},
   "outputs": [
    {
     "data": {
      "text/plain": [
       "'https://mathscinet.ams.org/mathscinet/search/publications.html?pg1=INDI&s1=681312'"
      ]
     },
     "execution_count": 36,
     "metadata": {},
     "output_type": "execute_result"
    }
   ],
   "source": [
    "file3.iloc[0]"
   ]
  },
  {
   "cell_type": "code",
   "execution_count": 39,
   "id": "13b61f6e",
   "metadata": {},
   "outputs": [
    {
     "data": {
      "text/plain": [
       "'https://mathscinet.ams.org/mathscinet/search/publications.html?pg1=INDI&s1=700798'"
      ]
     },
     "execution_count": 39,
     "metadata": {},
     "output_type": "execute_result"
    }
   ],
   "source": [
    "file4.iloc[-1]"
   ]
  },
  {
   "cell_type": "code",
   "execution_count": 38,
   "id": "08a4a6f9",
   "metadata": {},
   "outputs": [
    {
     "data": {
      "text/plain": [
       "'https://mathscinet.ams.org/mathscinet/search/publications.html?pg1=INDI&s1=348465'"
      ]
     },
     "execution_count": 38,
     "metadata": {},
     "output_type": "execute_result"
    }
   ],
   "source": [
    "file5.iloc[0]"
   ]
  },
  {
   "cell_type": "code",
   "execution_count": 28,
   "id": "4d63475c",
   "metadata": {},
   "outputs": [],
   "source": [
    "#file3.shape"
   ]
  },
  {
   "cell_type": "code",
   "execution_count": 29,
   "id": "a2f73bcd",
   "metadata": {},
   "outputs": [],
   "source": [
    "#https://mathscinet.ams.org/mathscinet/search/publications.html?pg1=INDI&s1=201396\n",
    "#https://mathscinet.ams.org/mathscinet/search/publications.html?pg1=INDI&s1=332806\n",
    "#https://mathscinet.ams.org/mathscinet/search/publications.html?pg1=INDI&s1=158020"
   ]
  },
  {
   "cell_type": "code",
   "execution_count": null,
   "id": "d03185d8",
   "metadata": {},
   "outputs": [],
   "source": []
  }
 ],
 "metadata": {
  "kernelspec": {
   "display_name": "Python 3 (ipykernel)",
   "language": "python",
   "name": "python3"
  },
  "language_info": {
   "codemirror_mode": {
    "name": "ipython",
    "version": 3
   },
   "file_extension": ".py",
   "mimetype": "text/x-python",
   "name": "python",
   "nbconvert_exporter": "python",
   "pygments_lexer": "ipython3",
   "version": "3.8.13"
  }
 },
 "nbformat": 4,
 "nbformat_minor": 5
}
