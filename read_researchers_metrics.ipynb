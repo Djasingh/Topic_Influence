{
 "cells": [
  {
   "cell_type": "code",
   "execution_count": 2,
   "id": "6cd7586b",
   "metadata": {},
   "outputs": [],
   "source": [
    "import pickle\n",
    "import pandas as pd\n",
    "import networkx as nx"
   ]
  },
  {
   "cell_type": "code",
   "execution_count": 3,
   "id": "00cf386a",
   "metadata": {},
   "outputs": [],
   "source": [
    "folder = \"../data/mgp_data/\""
   ]
  },
  {
   "cell_type": "code",
   "execution_count": 15,
   "id": "3ca0e81b",
   "metadata": {},
   "outputs": [],
   "source": [
    "def load_pickle(filename, folder= \"../data/mgp_data/\"):\n",
    "    with open(folder+filename,\"rb\") as fp:\n",
    "        data =  pickle.load(fp)\n",
    "        data_dict = dict(list(data))\n",
    "    return data_dict"
   ]
  },
  {
   "cell_type": "code",
   "execution_count": 4,
   "id": "6cd588ed",
   "metadata": {},
   "outputs": [],
   "source": [
    "hindex_df     = pd.read_csv(folder+\"mgp_h-index.csv\")"
   ]
  },
  {
   "cell_type": "code",
   "execution_count": 5,
   "id": "aba1ca0e",
   "metadata": {},
   "outputs": [],
   "source": [
    "hindex        = dict(zip(hindex_df[\"mgp_id\"], hindex_df[\"h_index\"]))"
   ]
  },
  {
   "cell_type": "code",
   "execution_count": 6,
   "id": "25025cc0",
   "metadata": {},
   "outputs": [
    {
     "data": {
      "text/plain": [
       "8727"
      ]
     },
     "execution_count": 6,
     "metadata": {},
     "output_type": "execute_result"
    }
   ],
   "source": [
    "len(hindex)"
   ]
  },
  {
   "cell_type": "code",
   "execution_count": 6,
   "id": "765afa36",
   "metadata": {},
   "outputs": [],
   "source": [
    "#folder+\"mgp_id2coauthor.pickle\""
   ]
  },
  {
   "cell_type": "code",
   "execution_count": 16,
   "id": "7b31e489",
   "metadata": {},
   "outputs": [],
   "source": [
    "mgpid2coauthor = load_pickle(\"mgp_id2coauthor.pickle\")"
   ]
  },
  {
   "cell_type": "code",
   "execution_count": 28,
   "id": "46a0a697",
   "metadata": {},
   "outputs": [
    {
     "data": {
      "text/plain": [
       "8"
      ]
     },
     "execution_count": 28,
     "metadata": {},
     "output_type": "execute_result"
    }
   ],
   "source": [
    "len(mgpid2coauthor[14952])"
   ]
  },
  {
   "cell_type": "code",
   "execution_count": 8,
   "id": "c5c1a08d",
   "metadata": {},
   "outputs": [],
   "source": [
    "mathscinet     = pd.read_csv(folder+\"mod_info_mathscinet.csv\")"
   ]
  },
  {
   "cell_type": "code",
   "execution_count": 14,
   "id": "e059dda7",
   "metadata": {},
   "outputs": [
    {
     "data": {
      "text/plain": [
       "Index(['mgp_id', 'mscinet_id', 'eip', 'eip_link', 'total_publ_count',\n",
       "       'total_related_publ_count', 'total_citation_count', 'publ_url',\n",
       "       'co_author_list', 'publ_by_area', 'publ_by_citation', 'published_as1',\n",
       "       'published_as2', 'co_author_names', 'published_as1_1',\n",
       "       'published_as2_1', 'published_as'],\n",
       "      dtype='object')"
      ]
     },
     "execution_count": 14,
     "metadata": {},
     "output_type": "execute_result"
    }
   ],
   "source": [
    "mathscinet.columns"
   ]
  },
  {
   "cell_type": "code",
   "execution_count": 24,
   "id": "a5223ff7",
   "metadata": {},
   "outputs": [],
   "source": [
    "mathscinet[\"processed_publ_area\"] = mathscinet[\"publ_by_area\"].apply(lambda x :[each_publ[-1] for each_publ in eval(x)] if type(x) == str else x )"
   ]
  },
  {
   "cell_type": "code",
   "execution_count": 25,
   "id": "e2d13266",
   "metadata": {},
   "outputs": [],
   "source": [
    "mgpid2citation_count  = dict(zip(mathscinet[\"mgp_id\"],mathscinet[\"total_citation_count\"]))"
   ]
  },
  {
   "cell_type": "code",
   "execution_count": 26,
   "id": "351fc1de",
   "metadata": {},
   "outputs": [],
   "source": [
    "mgpid2publ_count      = dict(zip(mathscinet[\"mgp_id\"],mathscinet[\"total_publ_count\"]))"
   ]
  },
  {
   "cell_type": "code",
   "execution_count": 27,
   "id": "442d5c6a",
   "metadata": {},
   "outputs": [],
   "source": [
    "mgpid2_name_variation =  dict(zip(mathscinet[\"mgp_id\"],mathscinet[\"published_as\"]))"
   ]
  },
  {
   "cell_type": "code",
   "execution_count": 28,
   "id": "4e6e1d5a",
   "metadata": {},
   "outputs": [],
   "source": [
    "mgpid2_publ_area      = dict(zip(mathscinet[\"mgp_id\"],mathscinet[\"processed_publ_area\"]))"
   ]
  },
  {
   "cell_type": "code",
   "execution_count": 32,
   "id": "8e64a02d",
   "metadata": {},
   "outputs": [
    {
     "data": {
      "text/plain": [
       "nan"
      ]
     },
     "execution_count": 32,
     "metadata": {},
     "output_type": "execute_result"
    }
   ],
   "source": [
    "mgpid2citation_count[98801]"
   ]
  },
  {
   "cell_type": "code",
   "execution_count": 30,
   "id": "39778cc9",
   "metadata": {},
   "outputs": [],
   "source": [
    "#mathscinet[mathscinet[\"mgp_id\"]==74367]"
   ]
  },
  {
   "cell_type": "markdown",
   "id": "17f05451",
   "metadata": {},
   "source": [
    "### Read Graph and Graph metrics"
   ]
  },
  {
   "cell_type": "code",
   "execution_count": 3,
   "id": "cb0bc15a",
   "metadata": {},
   "outputs": [],
   "source": [
    "graph = nx.read_gpickle(\"topic_co_occurance_graph_80.gpickle\")"
   ]
  },
  {
   "cell_type": "code",
   "execution_count": 4,
   "id": "49c43dda",
   "metadata": {},
   "outputs": [],
   "source": [
    "%%time\n",
    "pr    = nx.pagerank(graph, alpha=0.85)"
   ]
  },
  {
   "cell_type": "code",
   "execution_count": null,
   "id": "60db2acc",
   "metadata": {},
   "outputs": [],
   "source": [
    "%%time\n",
    "bc = nx.betweenness_centrality(graph)"
   ]
  },
  {
   "cell_type": "code",
   "execution_count": 13,
   "id": "6fb6bb6d",
   "metadata": {},
   "outputs": [],
   "source": [
    "#mathscinet.sample(5)"
   ]
  },
  {
   "cell_type": "code",
   "execution_count": 15,
   "id": "84822581",
   "metadata": {},
   "outputs": [],
   "source": [
    "#mgpid2publ_count"
   ]
  },
  {
   "cell_type": "code",
   "execution_count": 16,
   "id": "40baf270",
   "metadata": {},
   "outputs": [],
   "source": [
    "#mgpid2citation_count"
   ]
  },
  {
   "cell_type": "code",
   "execution_count": 17,
   "id": "4c72e5db",
   "metadata": {},
   "outputs": [],
   "source": [
    "#mathscinet[\"processed_publ_area\"].sample(5).values"
   ]
  }
 ],
 "metadata": {
  "kernelspec": {
   "display_name": "Python 3",
   "language": "python",
   "name": "python3"
  },
  "language_info": {
   "codemirror_mode": {
    "name": "ipython",
    "version": 3
   },
   "file_extension": ".py",
   "mimetype": "text/x-python",
   "name": "python",
   "nbconvert_exporter": "python",
   "pygments_lexer": "ipython3",
   "version": "3.8.11"
  }
 },
 "nbformat": 4,
 "nbformat_minor": 5
}
