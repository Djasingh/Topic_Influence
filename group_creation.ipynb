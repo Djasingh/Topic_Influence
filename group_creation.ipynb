{
 "cells": [
  {
   "cell_type": "code",
   "execution_count": 8,
   "id": "c76cab04",
   "metadata": {},
   "outputs": [],
   "source": [
    "import pandas as pd\n",
    "import networkx as nx"
   ]
  },
  {
   "cell_type": "code",
   "execution_count": 9,
   "id": "0a25e8f6",
   "metadata": {},
   "outputs": [],
   "source": [
    "folder = \"../data/mgp_data/\""
   ]
  },
  {
   "cell_type": "code",
   "execution_count": 20,
   "id": "121a3b7c",
   "metadata": {},
   "outputs": [],
   "source": [
    "def read_MGP():\n",
    "    mgp_nodes = pd.read_csv(folder+\"mgpnodeList_with_year_completion_updated_with_mod_dblp_link.csv\",\n",
    "                            sep=\",\",lineterminator=\"\\n\", low_memory=False)\n",
    "    mgp_nodes[\"Year\"] =  pd.to_datetime(mgp_nodes[\"Year\"]).dt.year\n",
    "    mgp_edges = pd.read_csv(folder+\"mgpedgeList_wodup_updated.csv\",\n",
    "                            sep=\",\",lineterminator=\"\\n\", low_memory=False)\n",
    "    return (mgp_nodes, mgp_edges)"
   ]
  },
  {
   "cell_type": "code",
   "execution_count": 4,
   "id": "128144da",
   "metadata": {},
   "outputs": [],
   "source": [
    "def group_Formation(nodes, edges):\n",
    "    uniq_nodes = set(pd.unique(edges[[\"advisor\", \"advisee\"]].values.ravel('K')))\n",
    "    all_nodes  = set(nodes[\"Id\"].values)\n",
    "    isolated_nodes =   all_nodes - uniq_nodes\n",
    "    remove_nodes   =   uniq_nodes - all_nodes\n",
    "    G = nx.from_pandas_edgelist(edges,\"advisor\",\"advisee\", create_using=nx.DiGraph())\n",
    "    G.add_nodes_from(isolated_nodes)\n",
    "    G.remove_nodes_from(remove_nodes)\n",
    "    groups = {node:tuple(G.successors(node)) for node in G.nodes}\n",
    "    return groups"
   ]
  },
  {
   "cell_type": "code",
   "execution_count": 5,
   "id": "71fff601",
   "metadata": {},
   "outputs": [],
   "source": [
    "def group_filter(groups, size=5):\n",
    "    filtered_group = {k:v for k,v in groups.items() if len(v)>=size}\n",
    "    return filtered_group"
   ]
  },
  {
   "cell_type": "code",
   "execution_count": 6,
   "id": "2634a944",
   "metadata": {},
   "outputs": [],
   "source": [
    "if __name__ == \"__main__\":\n",
    "    mgp_nodes, mgp_edges = read_MGP()\n",
    "    groups = group_Formation(mgp_nodes, mgp_edges)"
   ]
  },
  {
   "cell_type": "code",
   "execution_count": 7,
   "id": "035f36f1",
   "metadata": {},
   "outputs": [],
   "source": [
    "#len(groups)"
   ]
  },
  {
   "cell_type": "code",
   "execution_count": 24,
   "id": "fb847ed2",
   "metadata": {},
   "outputs": [],
   "source": [
    "#mgp_nodes, mgp_edges = read_MGP()"
   ]
  },
  {
   "cell_type": "code",
   "execution_count": 25,
   "id": "417a951e",
   "metadata": {},
   "outputs": [],
   "source": [
    "#mgp_nodes[mgp_nodes[\"Id\"]==258]"
   ]
  }
 ],
 "metadata": {
  "kernelspec": {
   "display_name": "Python 3",
   "language": "python",
   "name": "python3"
  },
  "language_info": {
   "codemirror_mode": {
    "name": "ipython",
    "version": 3
   },
   "file_extension": ".py",
   "mimetype": "text/x-python",
   "name": "python",
   "nbconvert_exporter": "python",
   "pygments_lexer": "ipython3",
   "version": "3.8.11"
  }
 },
 "nbformat": 4,
 "nbformat_minor": 5
}
