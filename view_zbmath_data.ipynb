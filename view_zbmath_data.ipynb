{
 "cells": [
  {
   "cell_type": "code",
   "execution_count": 1,
   "id": "314bd390",
   "metadata": {},
   "outputs": [],
   "source": [
    "import json"
   ]
  },
  {
   "cell_type": "code",
   "execution_count": 3,
   "id": "51af0bf0",
   "metadata": {},
   "outputs": [],
   "source": [
    "with open (\"/home/dj/Desktop/group_influence_mgp/Scapped_data_zbMath/1-38000/outputfile1_1-2000_new.json\",\"r\") as f:\n",
    "    data = json.load(f)"
   ]
  },
  {
   "cell_type": "code",
   "execution_count": 15,
   "id": "11612ba4",
   "metadata": {},
   "outputs": [
    {
     "data": {
      "text/plain": [
       "{'authors': [['Ahmadinezhad, Hamid', '/authors/?q=ai%3Aabban.hamid'],\n",
       "  ['Zucconi, Francesco', '/authors/?q=ai%3Azucconi.francesco']],\n",
       " 'title': [['Zbl\\xa01408.14049', '/?q=an%3A1408.14049'],\n",
       "  ['Proc. Edinb. Math. Soc., II. Ser.', '/serials/?q=se%3A624']],\n",
       " 'sources': [['Journal Profile',\n",
       "   '/serials/?q=se%3A624',\n",
       "   'Proc. Edinb. Math. Soc., II. Ser.'],\n",
       "  ['Articles in this Issue', '/?q=in%3A362590', '60, No. 1, 1-16 (2017)']],\n",
       " 'MSC': [[['mono'],\n",
       "   'Rational and birational maps',\n",
       "   '/classification/?q=cc%3A14E05',\n",
       "   '14E05'],\n",
       "  [['mono'],\n",
       "   'Minimal model program (Mori theory, extremal rays)',\n",
       "   '/classification/?q=cc%3A14E30',\n",
       "   '14E30'],\n",
       "  [['mono'],\n",
       "   'Birational automorphisms, Cremona group and generalizations',\n",
       "   '/classification/?q=cc%3A14E07',\n",
       "   '14E07'],\n",
       "  [['mono'],\n",
       "   'Rationality questions in algebraic geometry',\n",
       "   '/classification/?q=cc%3A14E08',\n",
       "   '14E08']]}"
      ]
     },
     "execution_count": 15,
     "metadata": {},
     "output_type": "execute_result"
    }
   ],
   "source": [
    "data[0][\"abban.hamid 170705\"][0][\"list_publications\"][5]"
   ]
  },
  {
   "cell_type": "code",
   "execution_count": 13,
   "id": "b2e90e3c",
   "metadata": {},
   "outputs": [
    {
     "data": {
      "text/plain": [
       "dict_keys(['authors', 'title', 'sources', 'MSC'])"
      ]
     },
     "execution_count": 13,
     "metadata": {},
     "output_type": "execute_result"
    }
   ],
   "source": [
    "data[0][\"abban.hamid 170705\"][0][\"list_publications\"][0].keys()"
   ]
  },
  {
   "cell_type": "code",
   "execution_count": 16,
   "id": "2e383f59",
   "metadata": {},
   "outputs": [
    {
     "data": {
      "text/plain": [
       "dict_keys(['list_co_authors', 'no_of_citation_co_authors', 'list_serials', 'no_of_citation_serials', 'list_fields', 'no_of_citation_fields', 'list_cited_by_co_authors', 'list_cited_serials', 'list_cited_by_fields', 'list_publications'])"
      ]
     },
     "execution_count": 16,
     "metadata": {},
     "output_type": "execute_result"
    }
   ],
   "source": [
    "data[0][\"abban.hamid 170705\"][0].keys()"
   ]
  },
  {
   "cell_type": "code",
   "execution_count": null,
   "id": "ffb98363",
   "metadata": {},
   "outputs": [],
   "source": []
  }
 ],
 "metadata": {
  "kernelspec": {
   "display_name": "Python 3",
   "language": "python",
   "name": "python3"
  },
  "language_info": {
   "codemirror_mode": {
    "name": "ipython",
    "version": 3
   },
   "file_extension": ".py",
   "mimetype": "text/x-python",
   "name": "python",
   "nbconvert_exporter": "python",
   "pygments_lexer": "ipython3",
   "version": "3.8.11"
  }
 },
 "nbformat": 4,
 "nbformat_minor": 5
}
