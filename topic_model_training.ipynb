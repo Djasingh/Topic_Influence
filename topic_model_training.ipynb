{
 "cells": [
  {
   "cell_type": "code",
   "execution_count": 1,
   "id": "f9e404e6",
   "metadata": {},
   "outputs": [],
   "source": [
    "import random\n",
    "import gensim\n",
    "import pickle\n",
    "import pandas as pd\n",
    "from dask import dataframe as pd1\n",
    "\n",
    "import spacy\n",
    "spacy.load('en_core_web_sm')\n",
    "from spacy.lang.en import English\n",
    "parser = English()\n",
    "\n",
    "\n",
    "import nltk\n",
    "from nltk.corpus import wordnet as wn\n",
    "en_stop = set(nltk.corpus.stopwords.words('english'))\n",
    "\n",
    "from nltk.stem.wordnet import WordNetLemmatizer\n",
    "\n",
    "from gensim import corpora\n",
    "from gensim.models import ldamodel, LdaMulticore, CoherenceModel\n",
    "\n",
    "import matplotlib.pyplot as plt"
   ]
  },
  {
   "cell_type": "code",
   "execution_count": 2,
   "id": "0cc25a7e",
   "metadata": {},
   "outputs": [],
   "source": [
    "#nltk.download('omw-1.4')"
   ]
  },
  {
   "cell_type": "code",
   "execution_count": 3,
   "id": "8ac1de7a",
   "metadata": {},
   "outputs": [],
   "source": [
    "folder = \"../data/mgp_data/\""
   ]
  },
  {
   "cell_type": "code",
   "execution_count": 4,
   "id": "68c19f18",
   "metadata": {},
   "outputs": [],
   "source": [
    "publication = pd1.read_csv(folder+\"dblp_publication_data_for_mgp_researchers.csv\")"
   ]
  },
  {
   "cell_type": "code",
   "execution_count": 5,
   "id": "e49ca3bb",
   "metadata": {},
   "outputs": [
    {
     "data": {
      "text/plain": [
       "Index(['mgp_id', 'title', 'author', 'year', 'ptype', 'url'], dtype='object')"
      ]
     },
     "execution_count": 5,
     "metadata": {},
     "output_type": "execute_result"
    }
   ],
   "source": [
    "publication.columns"
   ]
  },
  {
   "cell_type": "code",
   "execution_count": 6,
   "id": "7696ce07",
   "metadata": {},
   "outputs": [],
   "source": [
    "#removal= ['ADV','PRON','CCONJ','PUNCT','PART','DET','ADP','SPACE', 'NUM', 'SYM']"
   ]
  },
  {
   "cell_type": "code",
   "execution_count": 7,
   "id": "d687b7d2",
   "metadata": {},
   "outputs": [],
   "source": [
    "def tokenize(text):\n",
    "    lda_tokens = []\n",
    "    tokens = parser(text)\n",
    "    for token in tokens:\n",
    "        #print(token)\n",
    "        if token.orth_.isspace():\n",
    "            continue\n",
    "        elif token.like_url:\n",
    "            lda_tokens.append('URL')\n",
    "        elif token.orth_.startswith('@'):\n",
    "            lda_tokens.append('SCREEN_NAME')\n",
    "        else:\n",
    "            lda_tokens.append(token.lower_)\n",
    "    return lda_tokens"
   ]
  },
  {
   "cell_type": "code",
   "execution_count": 8,
   "id": "5d5d2e3e",
   "metadata": {},
   "outputs": [],
   "source": [
    "def get_lemma(word):\n",
    "    lemma = wn.morphy(word)\n",
    "    if lemma is None:\n",
    "        return word\n",
    "    else:\n",
    "        return lemma\n",
    "    \n",
    "def get_lemma2(word):\n",
    "    return WordNetLemmatizer().lemmatize(word)"
   ]
  },
  {
   "cell_type": "code",
   "execution_count": 9,
   "id": "82371b98",
   "metadata": {},
   "outputs": [],
   "source": [
    "def prepare_text_for_lda(text):\n",
    "    tokens = tokenize(text)\n",
    "    tokens = [token for token in tokens if len(token) > 4]\n",
    "    tokens = [token for token in tokens if token not in en_stop]\n",
    "    tokens = [get_lemma(token) for token in tokens]\n",
    "    return tokens"
   ]
  },
  {
   "cell_type": "code",
   "execution_count": 11,
   "id": "bf2c29f0",
   "metadata": {},
   "outputs": [],
   "source": [
    "# text_data = []\n",
    "# for index, line in publication.iterrows():\n",
    "#     #print(line[\"title\"])\n",
    "#     tokens = prepare_text_for_lda(line[\"title\"])\n",
    "# #     if random.random() > .99:\n",
    "# #         print(line[\"title\"])\n",
    "# #         print(tokens)\n",
    "#     text_data.append(tokens)"
   ]
  },
  {
   "cell_type": "code",
   "execution_count": null,
   "id": "3ac275d0",
   "metadata": {},
   "outputs": [],
   "source": [
    "text_data = [prepare_text_for_lda(line[\"title\"]) for index, line in publication.iterrows()]"
   ]
  },
  {
   "cell_type": "code",
   "execution_count": 11,
   "id": "670d94e6",
   "metadata": {},
   "outputs": [],
   "source": [
    "def prepare_corpora(text_data):\n",
    "    dictionary = corpora.Dictionary(text_data)\n",
    "    dictionary.filter_extremes(no_below=5, no_above=0.5, keep_n=10000)\n",
    "    corpus = [dictionary.doc2bow(text) for text in text_data]\n",
    "    pickle.dump(corpus, open('corpus.pkl', 'wb'))\n",
    "    dictionary.save('dictionary.gensim')\n",
    "    return (corpus, dictionary)"
   ]
  },
  {
   "cell_type": "code",
   "execution_count": null,
   "id": "b6d1dd22",
   "metadata": {},
   "outputs": [],
   "source": [
    "#dictionary.filter_extremes(no_below=5, no_above=0.5, keep_n=1000)"
   ]
  },
  {
   "cell_type": "code",
   "execution_count": null,
   "id": "50161b6f",
   "metadata": {},
   "outputs": [],
   "source": [
    "print(dictionary.token2id)"
   ]
  },
  {
   "cell_type": "code",
   "execution_count": null,
   "id": "d331c69b",
   "metadata": {},
   "outputs": [],
   "source": [
    "corpus, dictionary = prepare_corpora(text_data)"
   ]
  },
  {
   "cell_type": "code",
   "execution_count": null,
   "id": "c80c9b31",
   "metadata": {},
   "outputs": [],
   "source": [
    "len(list(dictionary.items()))"
   ]
  },
  {
   "cell_type": "code",
   "execution_count": 55,
   "id": "64600002",
   "metadata": {},
   "outputs": [
    {
     "name": "stdout",
     "output_type": "stream",
     "text": [
      "(0, '0.152*\"system\" + 0.095*\"control\" + 0.045*\"power\" + 0.033*\"adaptive\"')\n",
      "(1, '0.038*\"point\" + 0.037*\"model\" + 0.035*\"identification\" + 0.027*\"hierarchical\"')\n",
      "(2, '0.075*\"design\" + 0.037*\"software\" + 0.037*\"system\" + 0.031*\"scheduling\"')\n",
      "(3, '0.074*\"multi\" + 0.055*\"distribute\" + 0.049*\"system\" + 0.036*\"base\"')\n",
      "(4, '0.052*\"optimal\" + 0.047*\"linear\" + 0.042*\"function\" + 0.029*\"theory\"')\n",
      "(5, '0.049*\"technique\" + 0.034*\"fault\" + 0.030*\"mechanism\" + 0.024*\"layer\"')\n",
      "(6, '0.047*\"scheme\" + 0.047*\"multiple\" + 0.033*\"generation\" + 0.032*\"query\"')\n",
      "(7, '0.036*\"base\" + 0.032*\"visual\" + 0.031*\"tracking\" + 0.029*\"filter\"')\n",
      "(8, '0.054*\"equation\" + 0.043*\"solution\" + 0.042*\"order\" + 0.034*\"international\"')\n",
      "(9, '0.189*\"network\" + 0.048*\"wireless\" + 0.043*\"sensor\" + 0.035*\"mobile\"')\n",
      "(10, '0.058*\"performance\" + 0.044*\"analysis\" + 0.044*\"evaluation\" + 0.037*\"architecture\"')\n",
      "(11, '0.046*\"recognition\" + 0.036*\"online\" + 0.035*\"base\" + 0.026*\"sequence\"')\n",
      "(12, '0.086*\"problem\" + 0.063*\"optimization\" + 0.051*\"algorithm\" + 0.038*\"language\"')\n",
      "(13, '0.056*\"process\" + 0.040*\"semantic\" + 0.037*\"channel\" + 0.028*\"mining\"')\n",
      "(14, '0.042*\"video\" + 0.037*\"fuzzy\" + 0.036*\"space\" + 0.035*\"base\"')\n",
      "(15, '0.068*\"detection\" + 0.067*\"network\" + 0.064*\"image\" + 0.055*\"base\"')\n",
      "(16, '0.179*\"learning\" + 0.054*\"machine\" + 0.024*\"code\" + 0.019*\"weight\"')\n",
      "(17, '0.061*\"structure\" + 0.058*\"computing\" + 0.051*\"parallel\" + 0.047*\"simulation\"')\n",
      "(18, '0.114*\"graph\" + 0.038*\"research\" + 0.026*\"number\" + 0.024*\"approximate\"')\n",
      "(19, '0.057*\"efficient\" + 0.050*\"search\" + 0.037*\"level\" + 0.031*\"memory\"')\n"
     ]
    }
   ],
   "source": [
    "def model_train(corpus, dictionary)\n",
    "    NUM_TOPICS = 20\n",
    "    ldamodel = ldamodel.LdaModel(corpus, num_topics = NUM_TOPICS, id2word=dictionary, passes=15)\n",
    "    ldamodel.save('topic_model.gensim')\n",
    "    topics = ldamodel.print_topics(num_words=4)\n",
    "#     for topic in topics:\n",
    "#         print(topic)\n",
    "    return ldamodel"
   ]
  },
  {
   "cell_type": "code",
   "execution_count": 61,
   "id": "c02a9393",
   "metadata": {},
   "outputs": [
    {
     "data": {
      "image/png": "[encoded data removed]",
      "text/plain": [
       "<Figure size 432x288 with 1 Axes>"
      ]
     },
     "metadata": {
      "needs_background": "light"
     },
     "output_type": "display_data"
    }
   ],
   "source": [
    "def model_Behaviour(corpus, dictionary):\n",
    "    topics = []\n",
    "    score = []\n",
    "    perplexity = []\n",
    "    for i in range(1,20,1):\n",
    "        lda_model = LdaMulticore(corpus=corpus, id2word=dictionary, iterations=10, num_topics=i, workers = 4, passes=10, random_state=100)\n",
    "        cm = CoherenceModel(model=lda_model, corpus=corpus, dictionary=dictionary, coherence='u_mass')#c_v\n",
    "        topics.append(i)\n",
    "        perplexity.append(lda_model.log_perplexity(corpus))\n",
    "        score.append(cm.get_coherence())\n",
    "    _=plt.plot(topics, score)\n",
    "    _=plt.plot(topics, perplexity)\n",
    "    _=plt.xlabel('Number of Topics')\n",
    "    _=plt.ylabel('Coherence Score')\n",
    "    plt.show()"
   ]
  },
  {
   "cell_type": "code",
   "execution_count": null,
   "id": "2e761a56",
   "metadata": {},
   "outputs": [],
   "source": [
    "new_doc = 'Practical Bayesian Optimization of Machine Learning Algorithms'\n",
    "new_doc = prepare_text_for_lda(new_doc)\n",
    "new_doc_bow = dictionary.doc2bow(new_doc)\n",
    "print(new_doc_bow)\n",
    "print(ldamodel.get_document_topics(new_doc_bow))"
   ]
  },
  {
   "cell_type": "code",
   "execution_count": 31,
   "id": "fff376b4",
   "metadata": {},
   "outputs": [
    {
     "data": {
      "text/plain": [
       "0.3964802179835647"
      ]
     },
     "execution_count": 31,
     "metadata": {},
     "output_type": "execute_result"
    }
   ],
   "source": [
    "random.random()"
   ]
  },
  {
   "cell_type": "code",
   "execution_count": 38,
   "id": "ee6e2455",
   "metadata": {},
   "outputs": [
    {
     "name": "stdout",
     "output_type": "stream",
     "text": [
      "Representing\n",
      "algebraic\n",
      "integers\n",
      "as\n",
      "linear\n",
      "combinations\n",
      "of\n",
      "units\n",
      ".\n"
     ]
    },
    {
     "data": {
      "text/plain": [
       "['representing',\n",
       " 'algebraic',\n",
       " 'integers',\n",
       " 'as',\n",
       " 'linear',\n",
       " 'combinations',\n",
       " 'of',\n",
       " 'units',\n",
       " '.']"
      ]
     },
     "execution_count": 38,
     "metadata": {},
     "output_type": "execute_result"
    }
   ],
   "source": [
    "#tokenize('Representing algebraic integers as linear combinations of units.')"
   ]
  },
  {
   "cell_type": "code",
   "execution_count": 40,
   "id": "26b2cf1f",
   "metadata": {},
   "outputs": [
    {
     "name": "stdout",
     "output_type": "stream",
     "text": [
      "Representing\n",
      "algebraic\n",
      "integers\n",
      "as\n",
      "linear\n",
      "combinations\n",
      "of\n",
      "units\n",
      ".\n"
     ]
    },
    {
     "data": {
      "text/plain": [
       "['represent', 'algebraic', 'integer', 'linear', 'combination', 'unit']"
      ]
     },
     "execution_count": 40,
     "metadata": {},
     "output_type": "execute_result"
    }
   ],
   "source": [
    "#prepare_text_for_lda(\"Representing algebraic integers as linear combinations of units.\")"
   ]
  },
  {
   "cell_type": "code",
   "execution_count": null,
   "id": "9d8b8fc0",
   "metadata": {},
   "outputs": [],
   "source": []
  }
 ],
 "metadata": {
  "kernelspec": {
   "display_name": "Python 3",
   "language": "python",
   "name": "python3"
  },
  "language_info": {
   "codemirror_mode": {
    "name": "ipython",
    "version": 3
   },
   "file_extension": ".py",
   "mimetype": "text/x-python",
   "name": "python",
   "nbconvert_exporter": "python",
   "pygments_lexer": "ipython3",
   "version": "3.8.11"
  }
 },
 "nbformat": 4,
 "nbformat_minor": 5
}
