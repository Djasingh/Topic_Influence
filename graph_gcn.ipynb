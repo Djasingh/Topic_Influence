{
 "cells": [
  {
   "cell_type": "code",
   "execution_count": 13,
   "id": "20143a82",
   "metadata": {},
   "outputs": [
    {
     "name": "stderr",
     "output_type": "stream",
     "text": [
      "2022-09-20 18:03:53.317082: I tensorflow/core/platform/cpu_feature_guard.cc:193] This TensorFlow binary is optimized with oneAPI Deep Neural Network Library (oneDNN) to use the following CPU instructions in performance-critical operations:  AVX2 AVX512F FMA\n",
      "To enable them in other operations, rebuild TensorFlow with the appropriate compiler flags.\n",
      "2022-09-20 18:03:53.553739: W tensorflow/stream_executor/platform/default/dso_loader.cc:64] Could not load dynamic library 'libcudart.so.11.0'; dlerror: libcudart.so.11.0: cannot open shared object file: No such file or directory\n",
      "2022-09-20 18:03:53.553768: I tensorflow/stream_executor/cuda/cudart_stub.cc:29] Ignore above cudart dlerror if you do not have a GPU set up on your machine.\n",
      "2022-09-20 18:03:53.606796: E tensorflow/stream_executor/cuda/cuda_blas.cc:2981] Unable to register cuBLAS factory: Attempting to register factory for plugin cuBLAS when one has already been registered\n",
      "2022-09-20 18:03:54.570987: W tensorflow/stream_executor/platform/default/dso_loader.cc:64] Could not load dynamic library 'libnvinfer.so.7'; dlerror: libnvinfer.so.7: cannot open shared object file: No such file or directory\n",
      "2022-09-20 18:03:54.571130: W tensorflow/stream_executor/platform/default/dso_loader.cc:64] Could not load dynamic library 'libnvinfer_plugin.so.7'; dlerror: libnvinfer_plugin.so.7: cannot open shared object file: No such file or directory\n",
      "2022-09-20 18:03:54.571144: W tensorflow/compiler/tf2tensorrt/utils/py_utils.cc:38] TF-TRT Warning: Cannot dlopen some TensorRT libraries. If you would like to use Nvidia GPU with TensorRT, please make sure the missing libraries mentioned above are installed properly.\n"
     ]
    }
   ],
   "source": [
    "import torch\n",
    "import numpy as np\n",
    "import pandas as pd\n",
    "import networkx as nx\n",
    "from ge import DeepWalk\n",
    "import torch_geometric.transforms as T\n",
    "import torch.nn as nn\n",
    "import torch.nn.functional as F\n",
    "from torch_geometric.nn import GCNConv\n",
    "from torch_geometric.data import InMemoryDataset, Data\n",
    "from sklearn.model_selection import train_test_split"
   ]
  },
  {
   "cell_type": "code",
   "execution_count": 15,
   "id": "759b36f4",
   "metadata": {},
   "outputs": [
    {
     "name": "stdout",
     "output_type": "stream",
     "text": [
      "Learning embedding vectors...\n",
      "Learning embedding vectors done!\n"
     ]
    },
    {
     "name": "stderr",
     "output_type": "stream",
     "text": [
      "[Parallel(n_jobs=1)]: Using backend SequentialBackend with 1 concurrent workers.\n",
      "[Parallel(n_jobs=1)]: Done   1 out of   1 | elapsed:    0.0s finished\n"
     ]
    }
   ],
   "source": [
    "# load graph from networkx library\n",
    "G = nx.karate_club_graph()\n",
    "\n",
    "labels = np.asarray([G.nodes[i]['club'] != 'Mr. Hi' for i in G.nodes]).astype(np.int64)\n",
    "\n",
    "# convert nodes from int to str format\n",
    "keys = np.arange(0,34)\n",
    "values = [str(i) for i in keys]\n",
    "dic = dict(zip(keys, values))\n",
    "H = nx.relabel_nodes(G, dic)\n",
    "\n",
    "# train the model and generate embeddings\n",
    "model = DeepWalk(H, walk_length=10, num_walks=80, workers=1)\n",
    "model.train(window_size=5, iter=3)\n",
    "\n",
    "embeddings = model.get_embeddings()"
   ]
  },
  {
   "cell_type": "code",
   "execution_count": 16,
   "id": "84281683",
   "metadata": {},
   "outputs": [],
   "source": [
    "# retrieve the labels for each node\n",
    "labels = np.asarray([G.nodes[i]['club'] != 'Mr. Hi' for i in G.nodes]).astype(np.int64)\n",
    "\n",
    "# create edge index from \n",
    "adj = nx.to_scipy_sparse_array(G).tocoo()\n",
    "row = torch.from_numpy(adj.row.astype(np.int64)).to(torch.long)\n",
    "col = torch.from_numpy(adj.col.astype(np.int64)).to(torch.long)\n",
    "edge_index = torch.stack([row, col], dim=0)\n",
    "\n",
    "# prepare the embeddings\n",
    "nodes = pd.DataFrame(list(H.nodes()))\n",
    "nodes.columns = ['nodes']\n",
    "nodes['embeddings'] = nodes['nodes'].map(embeddings)"
   ]
  },
  {
   "cell_type": "code",
   "execution_count": 17,
   "id": "5a54d242",
   "metadata": {},
   "outputs": [],
   "source": [
    "embeddings = torch.from_numpy(np.stack(nodes.embeddings.values))"
   ]
  },
  {
   "cell_type": "code",
   "execution_count": 18,
   "id": "e7f7690c",
   "metadata": {},
   "outputs": [],
   "source": [
    "# custom dataset\n",
    "class KarateDataset(InMemoryDataset):\n",
    "    def __init__(self, transform=None):\n",
    "        super(KarateDataset, self).__init__('.', transform, None, None)\n",
    "\n",
    "        data = Data(edge_index=edge_index)\n",
    "        \n",
    "        data.num_nodes = G.number_of_nodes()\n",
    "        \n",
    "        # embedding \n",
    "        data.x = embeddings.type(torch.float32)\n",
    "        \n",
    "        # labels\n",
    "        y = torch.from_numpy(labels).type(torch.long)\n",
    "        data.y = y.clone().detach()\n",
    "        \n",
    "        data.num_classes = 2\n",
    "\n",
    "        # splitting the data into train, validation and test\n",
    "        X_train, X_test, y_train, y_test = train_test_split(pd.Series(G.nodes()), \n",
    "                                                            pd.Series(labels),\n",
    "                                                            test_size=0.30, \n",
    "                                                            random_state=42)\n",
    "        \n",
    "        n_nodes = G.number_of_nodes()\n",
    "        \n",
    "        # create train and test masks for data\n",
    "        train_mask = torch.zeros(n_nodes, dtype=torch.bool)\n",
    "        test_mask = torch.zeros(n_nodes, dtype=torch.bool)\n",
    "        train_mask[X_train.index] = True\n",
    "        test_mask[X_test.index] = True\n",
    "        data['train_mask'] = train_mask\n",
    "        data['test_mask'] = test_mask\n",
    "\n",
    "        self.data, self.slices = self.collate([data])\n",
    "\n",
    "    def _download(self):\n",
    "        return\n",
    "\n",
    "    def _process(self):\n",
    "        return\n",
    "\n",
    "    def __repr__(self):\n",
    "        return '{}()'.format(self.__class__.__name__)\n",
    "    \n",
    "dataset = KarateDataset()\n",
    "data = dataset[0]"
   ]
  },
  {
   "cell_type": "code",
   "execution_count": 19,
   "id": "c8efc68c",
   "metadata": {},
   "outputs": [],
   "source": [
    "# GCN model with 2 layers \n",
    "class Net(torch.nn.Module):\n",
    "    def __init__(self):\n",
    "        super(Net, self).__init__()\n",
    "        self.conv1 = GCNConv(data.num_features, 16)\n",
    "        self.conv2 = GCNConv(16, int(data.num_classes))\n",
    "\n",
    "    def forward(self):\n",
    "        x, edge_index = data.x, data.edge_index\n",
    "        x = F.relu(self.conv1(x, edge_index))\n",
    "        x = F.dropout(x, training=self.training)\n",
    "        x = self.conv2(x, edge_index)\n",
    "        return F.log_softmax(x, dim=1)\n",
    "\n",
    "device = torch.device('cuda' if torch.cuda.is_available() else 'cpu')\n",
    "\n",
    "data =  data.to(device)\n",
    "\n",
    "model = Net().to(device) "
   ]
  },
  {
   "cell_type": "code",
   "execution_count": 24,
   "id": "5fb3e7eb",
   "metadata": {},
   "outputs": [
    {
     "name": "stdout",
     "output_type": "stream",
     "text": [
      "######################################################################\n",
      "Train Accuracy: 1.0\n",
      "Test Accuracy: 0.9090909090909091\n",
      "######################################################################\n"
     ]
    }
   ],
   "source": [
    "torch.manual_seed(42)\n",
    "optimizer_name = \"Adam\"\n",
    "lr = 1e-1\n",
    "optimizer = getattr(torch.optim, optimizer_name)(model.parameters(), lr=lr)\n",
    "epochs = 200\n",
    "\n",
    "def train():\n",
    "    model.train()\n",
    "    optimizer.zero_grad()\n",
    "    F.nll_loss(model()[data.train_mask], data.y[data.train_mask]).backward()\n",
    "    optimizer.step()\n",
    "\n",
    "@torch.no_grad()\n",
    "def test():\n",
    "    model.eval()\n",
    "    logits = model()\n",
    "    mask1 = data['train_mask']\n",
    "    pred1 = logits[mask1].max(1)[1]\n",
    "    acc1 = pred1.eq(data.y[mask1]).sum().item() / mask1.sum().item()\n",
    "    mask = data['test_mask']\n",
    "    pred = logits[mask].max(1)[1]\n",
    "    acc = pred.eq(data.y[mask]).sum().item() / mask.sum().item()\n",
    "    return acc1,acc\n",
    "\n",
    "for epoch in range(1, epochs):\n",
    "    train()\n",
    "\n",
    "train_acc,test_acc = test()\n",
    "\n",
    "print('#' * 70)\n",
    "print('Train Accuracy: %s' %train_acc )\n",
    "print('Test Accuracy: %s' % test_acc)\n",
    "print('#' * 70)"
   ]
  },
  {
   "cell_type": "code",
   "execution_count": null,
   "id": "201dca45",
   "metadata": {},
   "outputs": [],
   "source": []
  }
 ],
 "metadata": {
  "kernelspec": {
   "display_name": "Python 3",
   "language": "python",
   "name": "python3"
  },
  "language_info": {
   "codemirror_mode": {
    "name": "ipython",
    "version": 3
   },
   "file_extension": ".py",
   "mimetype": "text/x-python",
   "name": "python",
   "nbconvert_exporter": "python",
   "pygments_lexer": "ipython3",
   "version": "3.8.11"
  }
 },
 "nbformat": 4,
 "nbformat_minor": 5
}
