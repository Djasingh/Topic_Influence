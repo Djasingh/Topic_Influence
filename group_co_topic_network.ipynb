{
 "cells": [
  {
   "cell_type": "code",
   "execution_count": 1,
   "id": "ec014907",
   "metadata": {},
   "outputs": [],
   "source": [
    "import random\n",
    "import pandas as pd\n",
    "import networkx as nx\n",
    "from itertools import combinations\n",
    "from networkx.algorithms import community\n",
    "import networkx.algorithms.community as nx_comm\n",
    "from pyfiles.mod_topic_influence_base import *"
   ]
  },
  {
   "cell_type": "code",
   "execution_count": 2,
   "id": "a0eea908",
   "metadata": {},
   "outputs": [],
   "source": [
    "#%store -r group_publication_titles\n",
    "%store -r topic_with_value\n",
    "%store -r filtered_groups\n",
    "%store -r group_head_id\n",
    "# %store -r topic_rank\n",
    "# %store -r norm_distance_kl\n",
    "# %store -r norm_distance_tau\n",
    "#%store -r mgp_nodes"
   ]
  },
  {
   "cell_type": "code",
   "execution_count": 3,
   "id": "82c6b71c",
   "metadata": {},
   "outputs": [],
   "source": [
    "%store -r lda_model\n",
    "%store -r id2word\n",
    "%store -r prepare_text_for_lda"
   ]
  },
  {
   "cell_type": "code",
   "execution_count": 4,
   "id": "563a5e23",
   "metadata": {},
   "outputs": [
    {
     "data": {
      "text/plain": [
       "25"
      ]
     },
     "execution_count": 4,
     "metadata": {},
     "output_type": "execute_result"
    }
   ],
   "source": [
    "lda_model.num_topics"
   ]
  },
  {
   "cell_type": "code",
   "execution_count": 29,
   "id": "20c09286",
   "metadata": {},
   "outputs": [],
   "source": [
    "def get_top_group_topic(topics):\n",
    "    top=5\n",
    "    #yearwies top three topic selection\n",
    "    top_topic_interval = [[t[0] for t in topic_interval if t[1] > 0.10] for topic_interval in topics \n",
    "                          if any((t[1] for t in topic_interval))]\n",
    "    #print(top_topic_interval[0])\n",
    "    #flatten\n",
    "    topics          = [topic for topic_interval in top_topic_interval for topic in topic_interval]\n",
    "    \n",
    "    #frequency calculation\n",
    "    topic_freq      = Counter(topics)\n",
    "    \n",
    "    #sorted from maximum to minimim based on topic frequency\n",
    "    sort_topic_freq = sorted(topic_freq.items(), key= lambda x: x[1], reverse=True)\n",
    "    #print(sort_topic_freq)\n",
    "    \n",
    "    #selected top five topic with maximum frequency\n",
    "    select_top      = [topic[0] for topic in sort_topic_freq[:top]] ### top=15\n",
    "    return select_top"
   ]
  },
  {
   "cell_type": "code",
   "execution_count": 20,
   "id": "c4da5030",
   "metadata": {},
   "outputs": [],
   "source": [
    "#len(topic_with_value[1])"
   ]
  },
  {
   "cell_type": "code",
   "execution_count": 23,
   "id": "a4e031c7",
   "metadata": {},
   "outputs": [],
   "source": [
    "#topic_with_value[-7]"
   ]
  },
  {
   "cell_type": "code",
   "execution_count": 27,
   "id": "03697684",
   "metadata": {},
   "outputs": [],
   "source": [
    "#group_head_id[100]"
   ]
  },
  {
   "cell_type": "code",
   "execution_count": 28,
   "id": "72f1f9fd",
   "metadata": {},
   "outputs": [],
   "source": [
    "#get_top_group_topic(topic_with_value[100])"
   ]
  },
  {
   "cell_type": "code",
   "execution_count": 30,
   "id": "e0c61bc2",
   "metadata": {},
   "outputs": [],
   "source": [
    "def modified_jaccard_index1(topic_orders):\n",
    "    topic_order1 = topic_orders[0]\n",
    "    topic_order2 = topic_orders[1]\n",
    "    #assert len(topic_order1) == len(topic_order2) > 1\n",
    "    size1 =  len(topic_order1)\n",
    "    size2 =  len(topic_order2)\n",
    "    modified_order1 = [inx for i, inx in enumerate(topic_order1) for j in range(size1-(i))]\n",
    "    modified_order2 = [inx for i, inx in enumerate(topic_order2) for j in range(size2-(i))]\n",
    "    #print(modified_order1)\n",
    "    #print(modified_order2)\n",
    "    common_elements   = list(set(modified_order1).intersection(modified_order2))\n",
    "    distinct_elements = list(set(modified_order1).union(modified_order2))\n",
    "    counter1 = Counter(modified_order1)\n",
    "    counter2 = Counter(modified_order2)\n",
    "    common_element_count = sum(min(counter1[elem], counter2[elem]) for elem in common_elements)\n",
    "    #print(common_element_count)\n",
    "    total_element_count =  sum(max(counter1[elem], counter2[elem]) for elem in distinct_elements)\n",
    "    #print(total_element_count)\n",
    "    mod_jaccard_index =  common_element_count/total_element_count\n",
    "    return mod_jaccard_index"
   ]
  },
  {
   "cell_type": "code",
   "execution_count": 31,
   "id": "44ffe6b9",
   "metadata": {},
   "outputs": [],
   "source": [
    "#co-topic occurance graph\n",
    "def construct_co_topic_graph1(group_top_topics):\n",
    "    edges = []\n",
    "    for group1, group2 in combinations(group_top_topics,2):\n",
    "        topic_intersection = set(group_top_topics[group1]).intersection(group_top_topics[group2])\n",
    "        weight = len(topic_intersection)\n",
    "        if weight > 4:\n",
    "            edges.append((group1, group2))#(group1, group2, {\"weight\": weight})\n",
    "    return edges   "
   ]
  },
  {
   "cell_type": "code",
   "execution_count": 32,
   "id": "c5d47d59",
   "metadata": {},
   "outputs": [],
   "source": [
    "#co-topic occurance graph\n",
    "def construct_co_topic_graph2(group_top_topics, threshold = 0.3):\n",
    "    edges = []\n",
    "    for group1, group2 in combinations(group_top_topics,2):\n",
    "        jaccard_sim = modified_jaccard_index(group_top_topics[group1],group_top_topics[group2]) \n",
    "        if jaccard_sim < threshold:\n",
    "            edges.append((group1, group2,{\"weight\": jaccard_sim}))#(group1, group2, {\"weight\": weight})\n",
    "    return edges    "
   ]
  },
  {
   "cell_type": "code",
   "execution_count": 33,
   "id": "a588515c",
   "metadata": {},
   "outputs": [],
   "source": [
    "def construct_co_topic_graph3(group_top_topics, threshold = 0.7):\n",
    "    group_pairs = list(combinations(group_top_topics, 2))\n",
    "    topic_pairs = [(group_top_topics[group1],group_top_topics[group2]) for group1, group2 in group_pairs]\n",
    "    jaccard_coef = map(modified_jaccard_index1, topic_pairs)\n",
    "    edges = [(group[0], group[1], {\"weight\": coef}) for coef, group in zip(jaccard_coef, group_pairs) \n",
    "             if coef > threshold]\n",
    "    return edges"
   ]
  },
  {
   "cell_type": "code",
   "execution_count": 37,
   "id": "71acd946",
   "metadata": {},
   "outputs": [],
   "source": [
    "group_top_topics1 = {idd:get_top_group_topic(group_topic) for idd, group_topic in zip(group_head_id, topic_with_value)}"
   ]
  },
  {
   "cell_type": "code",
   "execution_count": 36,
   "id": "70348237",
   "metadata": {},
   "outputs": [],
   "source": [
    "#group_top_topics"
   ]
  },
  {
   "cell_type": "code",
   "execution_count": 38,
   "id": "07bb375f",
   "metadata": {},
   "outputs": [
    {
     "name": "stdout",
     "output_type": "stream",
     "text": [
      "Stored 'group_top_topics1' (dict)\n"
     ]
    }
   ],
   "source": [
    "%store group_top_topics1"
   ]
  },
  {
   "cell_type": "code",
   "execution_count": 128,
   "id": "b78dbe63",
   "metadata": {},
   "outputs": [],
   "source": [
    "#group_top_topics"
   ]
  },
  {
   "cell_type": "code",
   "execution_count": 129,
   "id": "d3bd714a",
   "metadata": {},
   "outputs": [],
   "source": [
    "#modified_jaccard_index1((group_top_topics[258],group_top_topics[33688]))"
   ]
  },
  {
   "cell_type": "code",
   "execution_count": 130,
   "id": "ef16fcc8",
   "metadata": {},
   "outputs": [],
   "source": [
    "#modified_jaccard_index1((group_top_topics[258],group_top_topics[13666]))"
   ]
  },
  {
   "cell_type": "code",
   "execution_count": 131,
   "id": "b47093e5",
   "metadata": {},
   "outputs": [],
   "source": [
    "# %%time\n",
    "# edges1 = construct_co_topic_graph1(group_top_topics)"
   ]
  },
  {
   "cell_type": "code",
   "execution_count": 132,
   "id": "8a179a66",
   "metadata": {},
   "outputs": [],
   "source": [
    "#len(edges1)"
   ]
  },
  {
   "cell_type": "code",
   "execution_count": 133,
   "id": "e29e7e9b",
   "metadata": {},
   "outputs": [],
   "source": [
    "#edges1[1]"
   ]
  },
  {
   "cell_type": "code",
   "execution_count": 134,
   "id": "06500fa7",
   "metadata": {},
   "outputs": [],
   "source": [
    "#group_top_topics[14373]"
   ]
  },
  {
   "cell_type": "code",
   "execution_count": 135,
   "id": "deb5c732",
   "metadata": {},
   "outputs": [],
   "source": [
    "#group_top_topics[258]"
   ]
  },
  {
   "cell_type": "code",
   "execution_count": 137,
   "id": "f954d903",
   "metadata": {},
   "outputs": [],
   "source": [
    "# %%time\n",
    "# edges2 = construct_co_topic_graph2(group_top_topics)"
   ]
  },
  {
   "cell_type": "code",
   "execution_count": 138,
   "id": "3e612a88",
   "metadata": {},
   "outputs": [],
   "source": [
    "# count=[]\n",
    "\n",
    "# for i in group_top_topics:\n",
    "#     if len(group_top_topics[i])!=15:\n",
    "#         print(i)\n",
    "#         count.append(len(group_top_topics[i]))"
   ]
  },
  {
   "cell_type": "code",
   "execution_count": 142,
   "id": "43fbdf44",
   "metadata": {},
   "outputs": [],
   "source": [
    "#modified_jaccard_index1((group_top_topics[281], group_top_topics[285]))"
   ]
  },
  {
   "cell_type": "code",
   "execution_count": 39,
   "id": "70ac5e5b",
   "metadata": {},
   "outputs": [
    {
     "name": "stdout",
     "output_type": "stream",
     "text": [
      "CPU times: user 37min 8s, sys: 1min 20s, total: 38min 29s\n",
      "Wall time: 38min 30s\n"
     ]
    }
   ],
   "source": [
    "%%time\n",
    "edges3 = construct_co_topic_graph3(group_top_topics1, threshold=0.50)"
   ]
  },
  {
   "cell_type": "code",
   "execution_count": 40,
   "id": "889f04f6",
   "metadata": {},
   "outputs": [],
   "source": [
    "#group_top_topics[281]"
   ]
  },
  {
   "cell_type": "code",
   "execution_count": 41,
   "id": "5dc6d29b",
   "metadata": {},
   "outputs": [],
   "source": [
    "# %%time\n",
    "# edges3_80 = construct_co_topic_graph3(group_top_topics, threshold=0.80)"
   ]
  },
  {
   "cell_type": "code",
   "execution_count": 42,
   "id": "8d3aefae",
   "metadata": {},
   "outputs": [
    {
     "data": {
      "text/plain": [
       "772236"
      ]
     },
     "execution_count": 42,
     "metadata": {},
     "output_type": "execute_result"
    }
   ],
   "source": [
    "len(edges3)"
   ]
  },
  {
   "cell_type": "code",
   "execution_count": 51,
   "id": "ef5450e5",
   "metadata": {},
   "outputs": [],
   "source": [
    "edges3_80 = [edge for edge in edges3 if edge[2][\"weight\"] > 0.80]"
   ]
  },
  {
   "cell_type": "code",
   "execution_count": 52,
   "id": "b2c3c8eb",
   "metadata": {},
   "outputs": [
    {
     "data": {
      "text/plain": [
       "13912"
      ]
     },
     "execution_count": 52,
     "metadata": {},
     "output_type": "execute_result"
    }
   ],
   "source": [
    "len(edges3_80)"
   ]
  },
  {
   "cell_type": "code",
   "execution_count": 53,
   "id": "da4fa133",
   "metadata": {},
   "outputs": [],
   "source": [
    "G = nx.from_edgelist(edges3)"
   ]
  },
  {
   "cell_type": "code",
   "execution_count": 54,
   "id": "dfc8b5df",
   "metadata": {},
   "outputs": [
    {
     "data": {
      "text/plain": [
       "15326"
      ]
     },
     "execution_count": 54,
     "metadata": {},
     "output_type": "execute_result"
    }
   ],
   "source": [
    "len(G.nodes)"
   ]
  },
  {
   "cell_type": "code",
   "execution_count": 55,
   "id": "01f90bc0",
   "metadata": {},
   "outputs": [],
   "source": [
    "G.add_nodes_from(list(group_top_topics.keys()))"
   ]
  },
  {
   "cell_type": "code",
   "execution_count": 56,
   "id": "f13a8bd7",
   "metadata": {},
   "outputs": [
    {
     "data": {
      "text/plain": [
       "15433"
      ]
     },
     "execution_count": 56,
     "metadata": {},
     "output_type": "execute_result"
    }
   ],
   "source": [
    "len(G.nodes)"
   ]
  },
  {
   "cell_type": "code",
   "execution_count": 57,
   "id": "3da3bfa6",
   "metadata": {},
   "outputs": [],
   "source": [
    "nx.write_gpickle(G, \"topic_co_occurance_graph_80_1.gpickle\")"
   ]
  },
  {
   "cell_type": "code",
   "execution_count": 58,
   "id": "383cc3bf",
   "metadata": {},
   "outputs": [],
   "source": [
    "nx.write_graphml_lxml(G, \"topic_co_occurance_graph_80_1.graphml\")"
   ]
  },
  {
   "cell_type": "code",
   "execution_count": 22,
   "id": "755fff52",
   "metadata": {},
   "outputs": [],
   "source": [
    "# %%time\n",
    "# lou_community = nx_comm.louvain_communities(G, seed=123)"
   ]
  },
  {
   "cell_type": "code",
   "execution_count": 23,
   "id": "8f595452",
   "metadata": {},
   "outputs": [],
   "source": [
    "# communities_generator = community.girvan_newman(G)"
   ]
  },
  {
   "cell_type": "code",
   "execution_count": 24,
   "id": "6d5ab937",
   "metadata": {},
   "outputs": [],
   "source": [
    "# %%time\n",
    "# top_level_communities = next(communities_generator)\n",
    "# next_level_communities = next(communities_generator)\n",
    "# community = sorted(map(sorted, next_level_communities))"
   ]
  },
  {
   "cell_type": "code",
   "execution_count": 25,
   "id": "d6d4459d",
   "metadata": {},
   "outputs": [],
   "source": [
    "# top_community = sorted(map(sorted, top_level_communities))"
   ]
  },
  {
   "cell_type": "code",
   "execution_count": 26,
   "id": "55947eb7",
   "metadata": {},
   "outputs": [],
   "source": [
    "#list(combinations([1,2,3],2))"
   ]
  },
  {
   "cell_type": "code",
   "execution_count": 27,
   "id": "bef85853",
   "metadata": {},
   "outputs": [],
   "source": [
    "#intt = random.randint(0,399)"
   ]
  },
  {
   "cell_type": "code",
   "execution_count": 28,
   "id": "70e3df30",
   "metadata": {},
   "outputs": [],
   "source": [
    "#lou_community[intt]"
   ]
  },
  {
   "cell_type": "code",
   "execution_count": 29,
   "id": "2b290098",
   "metadata": {},
   "outputs": [
    {
     "name": "stdout",
     "output_type": "stream",
     "text": [
      "CPU times: user 5.3 s, sys: 392 ms, total: 5.69 s\n",
      "Wall time: 5.78 s\n"
     ]
    }
   ],
   "source": [
    "%%time\n",
    "pr = nx.pagerank(G, alpha=0.85)"
   ]
  },
  {
   "cell_type": "code",
   "execution_count": 30,
   "id": "b7a53c75",
   "metadata": {},
   "outputs": [
    {
     "name": "stdout",
     "output_type": "stream",
     "text": [
      "CPU times: user 3h 20min 53s, sys: 2min 4s, total: 3h 22min 57s\n",
      "Wall time: 3h 23min 22s\n"
     ]
    }
   ],
   "source": [
    "%%time\n",
    "bc = nx.betweenness_centrality(G)"
   ]
  },
  {
   "cell_type": "code",
   "execution_count": 31,
   "id": "5c897f6e",
   "metadata": {},
   "outputs": [],
   "source": [
    "page_rank = sorted(pr.items(), key=lambda x:x[1], reverse=True)"
   ]
  },
  {
   "cell_type": "code",
   "execution_count": 32,
   "id": "c11eea8a",
   "metadata": {},
   "outputs": [],
   "source": [
    "%run read_researchers_metrics.ipynb"
   ]
  },
  {
   "cell_type": "code",
   "execution_count": 33,
   "id": "2cc3bcd6",
   "metadata": {},
   "outputs": [],
   "source": [
    "idd_pr_cite = [(k,v,mgpid2citation_count.get(k,None)) for k,v in page_rank]"
   ]
  },
  {
   "cell_type": "code",
   "execution_count": 34,
   "id": "efb5b7d7",
   "metadata": {},
   "outputs": [
    {
     "data": {
      "text/plain": [
       "[(88152, 1.3539761902616422e-05, 104.0),\n",
       " (162621, 1.3118564237214142e-05, 2.0),\n",
       " (174759, 1.292548179511198e-05, 1.0),\n",
       " (131248, 1.2823572562094066e-05, None),\n",
       " (54457, 1.2714974474790326e-05, None),\n",
       " (27213, 1.2476754138119969e-05, 14.0),\n",
       " (145545, 1.2167522613512705e-05, 17.0),\n",
       " (169327, 1.2032488739248145e-05, 89.0),\n",
       " (50755, 1.1855794954803403e-05, 1.0),\n",
       " (107620, 1.0183275084617625e-05, 21.0)]"
      ]
     },
     "execution_count": 34,
     "metadata": {},
     "output_type": "execute_result"
    }
   ],
   "source": [
    "idd_pr_cite[-10:]"
   ]
  },
  {
   "cell_type": "code",
   "execution_count": 35,
   "id": "06542854",
   "metadata": {},
   "outputs": [
    {
     "data": {
      "text/plain": [
       "[(122825, 0.00016226253295364464, 36.0),\n",
       " (80020, 0.00016226253295364464, 143.0),\n",
       " (72099, 0.0001622625329536446, 434.0),\n",
       " (22289, 0.0001622625329536446, 1666.0),\n",
       " (83545, 0.0001622625329536446, 104.0),\n",
       " (38908, 0.0001622625329536446, 889.0),\n",
       " (77690, 0.0001622625329536446, 408.0),\n",
       " (79076, 0.0001622625329536446, 677.0),\n",
       " (149017, 0.00016121305766799847, 44.0),\n",
       " (197708, 0.00016121305766799847, 27.0)]"
      ]
     },
     "execution_count": 35,
     "metadata": {},
     "output_type": "execute_result"
    }
   ],
   "source": [
    "idd_pr_cite[:10]"
   ]
  },
  {
   "cell_type": "code",
   "execution_count": 36,
   "id": "f14d3ddc",
   "metadata": {},
   "outputs": [],
   "source": [
    "mgp_id = [idd for idd, val1, cite in idd_pr_cite]"
   ]
  },
  {
   "cell_type": "code",
   "execution_count": 37,
   "id": "30898ba4",
   "metadata": {},
   "outputs": [],
   "source": [
    "pr_val = [val1 for idd, val1, cite in idd_pr_cite]"
   ]
  },
  {
   "cell_type": "code",
   "execution_count": 38,
   "id": "721336f7",
   "metadata": {},
   "outputs": [],
   "source": [
    "citation = [cite for idd, val1, cite in idd_pr_cite]"
   ]
  },
  {
   "cell_type": "code",
   "execution_count": 39,
   "id": "bf7b5778",
   "metadata": {},
   "outputs": [],
   "source": [
    "dataframe = pd.DataFrame({\"MGP_id\":mgp_id, \"pr_val\":pr_val, \"citation\":citation})"
   ]
  },
  {
   "cell_type": "code",
   "execution_count": 40,
   "id": "485b8460",
   "metadata": {},
   "outputs": [
    {
     "data": {
      "text/html": [
       "<div>\n",
       "<style scoped>\n",
       "    .dataframe tbody tr th:only-of-type {\n",
       "        vertical-align: middle;\n",
       "    }\n",
       "\n",
       "    .dataframe tbody tr th {\n",
       "        vertical-align: top;\n",
       "    }\n",
       "\n",
       "    .dataframe thead th {\n",
       "        text-align: right;\n",
       "    }\n",
       "</style>\n",
       "<table border=\"1\" class=\"dataframe\">\n",
       "  <thead>\n",
       "    <tr style=\"text-align: right;\">\n",
       "      <th></th>\n",
       "      <th>MGP_id</th>\n",
       "      <th>pr_val</th>\n",
       "      <th>citation</th>\n",
       "    </tr>\n",
       "  </thead>\n",
       "  <tbody>\n",
       "    <tr>\n",
       "      <th>0</th>\n",
       "      <td>122825</td>\n",
       "      <td>0.000162</td>\n",
       "      <td>36.0</td>\n",
       "    </tr>\n",
       "    <tr>\n",
       "      <th>1</th>\n",
       "      <td>80020</td>\n",
       "      <td>0.000162</td>\n",
       "      <td>143.0</td>\n",
       "    </tr>\n",
       "    <tr>\n",
       "      <th>2</th>\n",
       "      <td>72099</td>\n",
       "      <td>0.000162</td>\n",
       "      <td>434.0</td>\n",
       "    </tr>\n",
       "    <tr>\n",
       "      <th>3</th>\n",
       "      <td>22289</td>\n",
       "      <td>0.000162</td>\n",
       "      <td>1666.0</td>\n",
       "    </tr>\n",
       "    <tr>\n",
       "      <th>4</th>\n",
       "      <td>83545</td>\n",
       "      <td>0.000162</td>\n",
       "      <td>104.0</td>\n",
       "    </tr>\n",
       "  </tbody>\n",
       "</table>\n",
       "</div>"
      ],
      "text/plain": [
       "   MGP_id    pr_val  citation\n",
       "0  122825  0.000162      36.0\n",
       "1   80020  0.000162     143.0\n",
       "2   72099  0.000162     434.0\n",
       "3   22289  0.000162    1666.0\n",
       "4   83545  0.000162     104.0"
      ]
     },
     "execution_count": 40,
     "metadata": {},
     "output_type": "execute_result"
    }
   ],
   "source": [
    "dataframe.head()"
   ]
  },
  {
   "cell_type": "code",
   "execution_count": 41,
   "id": "ddfc33d8",
   "metadata": {},
   "outputs": [],
   "source": [
    "bc_sorted = sorted(bc.items(), key=lambda x:x[1], reverse=True)"
   ]
  },
  {
   "cell_type": "code",
   "execution_count": 42,
   "id": "4c12673c",
   "metadata": {},
   "outputs": [
    {
     "data": {
      "text/plain": [
       "[(5761, 0.0030746955650474274),\n",
       " (44073, 0.0027302061006327077),\n",
       " (85212, 0.0021197052768331583),\n",
       " (79775, 0.001983097577255981),\n",
       " (1231, 0.0018804775071371807),\n",
       " (8231, 0.0016057044983000632),\n",
       " (105187, 0.001579124058140984),\n",
       " (1313, 0.0014892039974712897),\n",
       " (199981, 0.001453376785676139),\n",
       " (18577, 0.0013815394740237454)]"
      ]
     },
     "execution_count": 42,
     "metadata": {},
     "output_type": "execute_result"
    }
   ],
   "source": [
    "bc_sorted[:10]"
   ]
  },
  {
   "cell_type": "code",
   "execution_count": 43,
   "id": "3b94f603",
   "metadata": {},
   "outputs": [],
   "source": [
    "dataframe[\"bc\"] = dataframe[\"MGP_id\"].replace(bc)"
   ]
  },
  {
   "cell_type": "code",
   "execution_count": 44,
   "id": "0ad2ee09",
   "metadata": {},
   "outputs": [
    {
     "data": {
      "text/html": [
       "<div>\n",
       "<style scoped>\n",
       "    .dataframe tbody tr th:only-of-type {\n",
       "        vertical-align: middle;\n",
       "    }\n",
       "\n",
       "    .dataframe tbody tr th {\n",
       "        vertical-align: top;\n",
       "    }\n",
       "\n",
       "    .dataframe thead th {\n",
       "        text-align: right;\n",
       "    }\n",
       "</style>\n",
       "<table border=\"1\" class=\"dataframe\">\n",
       "  <thead>\n",
       "    <tr style=\"text-align: right;\">\n",
       "      <th></th>\n",
       "      <th>pr_val</th>\n",
       "      <th>citation</th>\n",
       "      <th>bc</th>\n",
       "    </tr>\n",
       "  </thead>\n",
       "  <tbody>\n",
       "    <tr>\n",
       "      <th>pr_val</th>\n",
       "      <td>1.000000</td>\n",
       "      <td>0.051752</td>\n",
       "      <td>-0.025258</td>\n",
       "    </tr>\n",
       "    <tr>\n",
       "      <th>citation</th>\n",
       "      <td>0.051752</td>\n",
       "      <td>1.000000</td>\n",
       "      <td>0.003979</td>\n",
       "    </tr>\n",
       "    <tr>\n",
       "      <th>bc</th>\n",
       "      <td>-0.025258</td>\n",
       "      <td>0.003979</td>\n",
       "      <td>1.000000</td>\n",
       "    </tr>\n",
       "  </tbody>\n",
       "</table>\n",
       "</div>"
      ],
      "text/plain": [
       "            pr_val  citation        bc\n",
       "pr_val    1.000000  0.051752 -0.025258\n",
       "citation  0.051752  1.000000  0.003979\n",
       "bc       -0.025258  0.003979  1.000000"
      ]
     },
     "execution_count": 44,
     "metadata": {},
     "output_type": "execute_result"
    }
   ],
   "source": [
    "dataframe[dataframe.columns[1:]].corr()"
   ]
  },
  {
   "cell_type": "code",
   "execution_count": 34,
   "id": "090cc2f0",
   "metadata": {},
   "outputs": [],
   "source": [
    "# import numpy as np\n",
    "# array= np.random.randint(0, 100, size=(3, 3, 2))"
   ]
  },
  {
   "cell_type": "code",
   "execution_count": 4,
   "id": "a4975f4a",
   "metadata": {},
   "outputs": [],
   "source": [
    "#4==3 > 1"
   ]
  },
  {
   "cell_type": "code",
   "execution_count": null,
   "id": "8974253d",
   "metadata": {},
   "outputs": [],
   "source": []
  }
 ],
 "metadata": {
  "kernelspec": {
   "display_name": "Python 3",
   "language": "python",
   "name": "python3"
  },
  "language_info": {
   "codemirror_mode": {
    "name": "ipython",
    "version": 3
   },
   "file_extension": ".py",
   "mimetype": "text/x-python",
   "name": "python",
   "nbconvert_exporter": "python",
   "pygments_lexer": "ipython3",
   "version": "3.8.11"
  }
 },
 "nbformat": 4,
 "nbformat_minor": 5
}
