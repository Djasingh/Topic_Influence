{
 "cells": [
  {
   "cell_type": "code",
   "execution_count": 14,
   "id": "440fe69d",
   "metadata": {},
   "outputs": [],
   "source": [
    "import urllib\n",
    "from SPARQLWrapper import SPARQLWrapper, JSON, CSV, SPARQLExceptions, POST"
   ]
  },
  {
   "cell_type": "code",
   "execution_count": 15,
   "id": "9f50f212",
   "metadata": {},
   "outputs": [],
   "source": [
    "#!pip install SPARQLWrapper"
   ]
  },
  {
   "cell_type": "code",
   "execution_count": 110,
   "id": "f1e93940",
   "metadata": {},
   "outputs": [],
   "source": [
    "title =\"Distributed Event-Triggered $H_\\infty$ Consensus Based Current Sharing    Control of DC Microgrids Considering Uncertainties\".replace(\"\\\\\",\"\")"
   ]
  },
  {
   "cell_type": "code",
   "execution_count": 111,
   "id": "d761ad4d",
   "metadata": {},
   "outputs": [],
   "source": [
    "title1 =urllib.parse.quote(\"GraCT: A Grammar-based Compressed Index for Trajectory Data\")"
   ]
  },
  {
   "cell_type": "code",
   "execution_count": 113,
   "id": "e945b1f6",
   "metadata": {},
   "outputs": [],
   "source": [
    "sparql = SPARQLWrapper(\"http://ma-graph.org/sparql\")\n",
    "query = f\"\"\"\n",
    "PREFIX rdf: <http://www.w3.org/1999/02/22-rdf-syntax-ns#>\n",
    "PREFIX magp: <http://ma-graph.org/property/>\n",
    "PREFIX dcterms: <http://purl.org/dc/terms/>\n",
    "PREFIX foaf: <http://xmlns.com/foaf/0.1/>\n",
    "PREFIX fabio: <http://purl.org/spar/fabio/>\n",
    "PREFIX org: <http://www.w3.org/ns/org#>\n",
    "PREFIX xsd: <http://www.w3.org/2001/XMLSchema#>\n",
    "PREFIX datacite: <http://purl.org/spar/datacite/>\n",
    "PREFIX cito: <http://purl.org/spar/cito/>\n",
    "SELECT ?references ?authors\n",
    "WHERE\n",
    "{{\n",
    "?paper   dcterms:title   \"{title}\"^^xsd:string.\n",
    "?paper   cito:cites      ?paper1 .\n",
    "?paper1  dcterms:title   ?references .\n",
    "?paper1  dcterms:creator ?author .\n",
    "?author  foaf:name       ?authors .\n",
    "}}\n",
    "LIMIT 100 \"\"\"\n",
    "sparql.setReturnFormat(CSV)\n",
    "sparql.setQuery(query)\n",
    "#sparql.setMethod(POST)"
   ]
  },
  {
   "cell_type": "code",
   "execution_count": 114,
   "id": "018661bc",
   "metadata": {},
   "outputs": [
    {
     "data": {
      "text/plain": [
       "'\\nPREFIX rdf: <http://www.w3.org/1999/02/22-rdf-syntax-ns#>\\nPREFIX magp: <http://ma-graph.org/property/>\\nPREFIX dcterms: <http://purl.org/dc/terms/>\\nPREFIX foaf: <http://xmlns.com/foaf/0.1/>\\nPREFIX fabio: <http://purl.org/spar/fabio/>\\nPREFIX org: <http://www.w3.org/ns/org#>\\nPREFIX xsd: <http://www.w3.org/2001/XMLSchema#>\\nPREFIX datacite: <http://purl.org/spar/datacite/>\\nPREFIX cito: <http://purl.org/spar/cito/>\\nSELECT ?references ?authors\\nWHERE\\n{\\n?paper   dcterms:title   \"Distributed Event-Triggered $H_infty$ Consensus Based Current Sharing    Control of DC Microgrids Considering Uncertainties\"^^xsd:string.\\n?paper   cito:cites      ?paper1 .\\n?paper1  dcterms:title   ?references .\\n?paper1  dcterms:creator ?author .\\n?author  foaf:name       ?authors .\\n}\\nLIMIT 100 '"
      ]
     },
     "execution_count": 114,
     "metadata": {},
     "output_type": "execute_result"
    }
   ],
   "source": [
    "query"
   ]
  },
  {
   "cell_type": "code",
   "execution_count": 115,
   "id": "bef618de",
   "metadata": {},
   "outputs": [],
   "source": [
    "unicoded_results = sparql.query().convert()"
   ]
  },
  {
   "cell_type": "code",
   "execution_count": 116,
   "id": "95c744b2",
   "metadata": {},
   "outputs": [
    {
     "data": {
      "text/plain": [
       "b'\"references\",\"authors\"\\n'"
      ]
     },
     "execution_count": 116,
     "metadata": {},
     "output_type": "execute_result"
    }
   ],
   "source": [
    "unicoded_results"
   ]
  },
  {
   "cell_type": "code",
   "execution_count": 117,
   "id": "bbf1e0cb",
   "metadata": {},
   "outputs": [],
   "source": []
  }
 ],
 "metadata": {
  "kernelspec": {
   "display_name": "Python 3 (ipykernel)",
   "language": "python",
   "name": "python3"
  },
  "language_info": {
   "codemirror_mode": {
    "name": "ipython",
    "version": 3
   },
   "file_extension": ".py",
   "mimetype": "text/x-python",
   "name": "python",
   "nbconvert_exporter": "python",
   "pygments_lexer": "ipython3",
   "version": "3.7.13"
  }
 },
 "nbformat": 4,
 "nbformat_minor": 5
}
