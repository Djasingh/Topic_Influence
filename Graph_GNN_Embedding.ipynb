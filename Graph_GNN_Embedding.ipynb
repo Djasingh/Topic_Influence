{
 "cells": [
  {
   "cell_type": "code",
   "execution_count": 1,
   "id": "049db4de",
   "metadata": {},
   "outputs": [],
   "source": [
    "import pandas as pd\n",
    "import numpy as np\n",
    "from numpy import nan\n",
    "from main_util_func import *\n",
    "import stellargraph as sg\n",
    "from stellargraph import IndexedArray\n",
    "from stellargraph.mapper import PaddedGraphGenerator\n",
    "from stellargraph.layer import GCNSupervisedGraphClassification\n",
    "from stellargraph import StellarGraph\n",
    "\n",
    "from sklearn import model_selection\n",
    "#from IPython.display import display, HTML\n",
    "import tensorflow.keras as keras\n",
    "import tensorflow as tf\n",
    "from tensorflow.keras import Model\n",
    "from tensorflow.keras.optimizers import Adam\n",
    "from tensorflow.keras.layers import Dense\n",
    "from tensorflow.keras.losses import MeanSquaredError\n",
    "from tensorflow.keras.callbacks import EarlyStopping\n",
    "from keras.utils.vis_utils import plot_model"
   ]
  },
  {
   "cell_type": "code",
   "execution_count": 2,
   "id": "1e6dfa9c",
   "metadata": {},
   "outputs": [],
   "source": [
    "%config Completer.use_jedi = False #autocomplete"
   ]
  },
  {
   "cell_type": "code",
   "execution_count": 3,
   "id": "bd1099f9",
   "metadata": {},
   "outputs": [],
   "source": [
    "def input_read():\n",
    "    data_loc = './inter_files/input-output-data1.csv'\n",
    "    data = pd.read_csv(data_loc, sep=',', lineterminator=\"\\n\", low_memory=False)\n",
    "    data['input_nodes_sequence'] = data['input_nodes_sequence'].apply(lambda x : eval(x))\n",
    "    data['output_seq'] = data['output_seq'].apply(lambda x : eval(x))\n",
    "    data['output'] = data['output_seq'].apply(lambda x : x[-1])\n",
    "    data['first_year']= data['input_years_sequence'].apply(lambda x:eval(x)[1]) #new\n",
    "    data['flag'] = data['first_year']+15 <= 2021 #new\n",
    "    data = data[data['flag']==True].copy() #new\n",
    "    node_seq_len = [len(a) for a in data['input_nodes_sequence'].values]\n",
    "    max_len = max(node_seq_len)\n",
    "    return data, max_len"
   ]
  },
  {
   "cell_type": "code",
   "execution_count": 4,
   "id": "0e64add0",
   "metadata": {},
   "outputs": [],
   "source": [
    "def graphs_data(embeddings, data):\n",
    "    graph_labels= []\n",
    "    graphs= []\n",
    "    for head, family, family_edge, output in data[[\"Id\",\"input_nodes_sequence\",\"input_edgelist\",\"output_seq\"]].values:\n",
    "        node_feat=[]\n",
    "        source = []\n",
    "        target = []\n",
    "        if type(family)==str:\n",
    "            family=eval(family)\n",
    "        family_edge = eval(family_edge)\n",
    "        for a in family:\n",
    "            node_feat.append(embeddings[a])\n",
    "        node_feat = np.array(node_feat)\n",
    "        node_feat_inx = IndexedArray(node_feat, index=family)\n",
    "        for edge in family_edge:\n",
    "            source.append(edge[0])\n",
    "            target.append(edge[1])\n",
    "        family_edges = pd.DataFrame({\"source\":source, \"target\": target})\n",
    "        graph = sg.StellarDiGraph(node_feat_inx, family_edges)\n",
    "        graphs.append(graph)\n",
    "        graph_labels.append(output)\n",
    "    return graphs, graph_labels"
   ]
  },
  {
   "cell_type": "code",
   "execution_count": 16,
   "id": "3405f332",
   "metadata": {},
   "outputs": [],
   "source": [
    "def get_model(generator):\n",
    "    gc_model = sg.layer.GCNSupervisedGraphClassification(\n",
    "        [64, 36], [\"relu\", \"relu\"], generator, pool_all_layers=True\n",
    "    )\n",
    "    inp1, out1 = gc_model.in_out_tensors()\n",
    "    # inp2, out2 = gc_model.in_out_tensors()\n",
    "\n",
    "    # vec_distance = tf.norm(out1 - out2, axis=1)\n",
    "    predictions = Dense(units=32, activation=\"relu\")(out1)\n",
    "    predictions = Dense(units=16, activation=\"relu\")(predictions)\n",
    "    predictions = Dense(units=1)(predictions)\n",
    "\n",
    "    # Let's create the Keras model and prepare it for training\n",
    "    model = Model(inputs=inp1, outputs=predictions)\n",
    "    model.compile(optimizer=Adam(0.001), loss=MeanSquaredError())\n",
    "    embedding_model = keras.Model(inp1, out1)\n",
    "    return model, embedding_model"
   ]
  },
  {
   "cell_type": "code",
   "execution_count": null,
   "id": "a87b3abe",
   "metadata": {},
   "outputs": [],
   "source": [
    "#print(model.summary())"
   ]
  },
  {
   "cell_type": "code",
   "execution_count": null,
   "id": "08736d47",
   "metadata": {},
   "outputs": [],
   "source": [
    "# def graph_distance(g1, g2):\n",
    "#     #print(graph1.info())\n",
    "#     #print(graph2.info())\n",
    "#     spec1 = nx.directed_laplacian_matrix(nx.DiGraph(g1.to_networkx(feature_attr=None)), weight=None)\n",
    "#     #print(spec1)\n",
    "#     spec2 = nx.directed_laplacian_matrix(nx.DiGraph(g2.to_networkx(feature_attr=None)), weight=None, alpha=0.95)\n",
    "#     #print(spec2)\n",
    "#     r1,c1 = spec1.shape[0], spec1.shape[1]\n",
    "#     r2,c2 = spec2.shape[0], spec2.shape[1]\n",
    "#     r = max(spec1.shape[0], spec2.shape[0])\n",
    "#     c = max(spec1.shape[1], spec2.shape[1])\n",
    "#     spec11 = np.pad(spec1, [(0,r-r1), (0,c-c1)], constant_values=0)\n",
    "#     spec21 = np.pad(spec2, [(0,r-r2), (0,c-c2)], constant_values=0)\n",
    "#     #print(spec1)\n",
    "#     #print(spec2)\n",
    "#     #print(r,c)\n",
    "#     dist = np.linalg.norm(spec11 - spec21)\n",
    "#     if np.isnan(dist):\n",
    "#         dist=4\n",
    "#     return dist"
   ]
  },
  {
   "cell_type": "code",
   "execution_count": 6,
   "id": "e08f1927",
   "metadata": {},
   "outputs": [],
   "source": [
    "def family_size(graph):\n",
    "    return len(graph.nodes())"
   ]
  },
  {
   "cell_type": "code",
   "execution_count": 9,
   "id": "6f3a52cc",
   "metadata": {},
   "outputs": [],
   "source": [
    "def train_model(graphs, model, embed):\n",
    "    targets = np.array([family_size(g) for g in graphs])\n",
    "    graph_idx = np.random.RandomState(0).randint(len(graphs), size=(10000))\n",
    "    train_gen = generator.flow(graph_idx, batch_size=10, targets=targets[graph_idx])\n",
    "    history = model.fit(train_gen, epochs=10, verbose=1)\n",
    "    embeddings = embedding_model.predict(generator.flow(graphs))\n",
    "    return embeddings, history"
   ]
  },
  {
   "cell_type": "code",
   "execution_count": null,
   "id": "69427717",
   "metadata": {
    "scrolled": false
   },
   "outputs": [],
   "source": [
    "if __name__==\"__main__\":\n",
    "    data, max_len = input_read()\n",
    "    data = data.iloc[0:100]\n",
    "    secibert_embeddings  = load_obj('combined_reduced_tsne_embed')\n",
    "    graphs, graph_labels = graphs_data(secibert_embeddings, data)\n",
    "    generator = PaddedGraphGenerator(graphs=graphs)\n",
    "    model, embedding_model = get_model(generator)\n",
    "    new_embeddings, history = train_model(graphs, model, embedding_model)\n",
    "    sg.utils.plot_history(history)"
   ]
  },
  {
   "cell_type": "code",
   "execution_count": 11,
   "id": "d8d5d757",
   "metadata": {},
   "outputs": [
    {
     "data": {
      "image/png": "[encoded data removed]",
      "text/plain": [
       "<IPython.core.display.Image object>"
      ]
     },
     "execution_count": 11,
     "metadata": {},
     "output_type": "execute_result"
    }
   ],
   "source": [
    "plot_model(model)"
   ]
  },
  {
   "cell_type": "code",
   "execution_count": null,
   "id": "fcb99c3d",
   "metadata": {},
   "outputs": [],
   "source": [
    "#graph_distance(graphs[30403], graphs[21243])"
   ]
  },
  {
   "cell_type": "code",
   "execution_count": null,
   "id": "5e71825c",
   "metadata": {},
   "outputs": [],
   "source": [
    "#graph_idx"
   ]
  },
  {
   "cell_type": "code",
   "execution_count": null,
   "id": "05e7009d",
   "metadata": {},
   "outputs": [],
   "source": [
    "#print(graphs[42613].info())"
   ]
  },
  {
   "cell_type": "code",
   "execution_count": null,
   "id": "f76889ac",
   "metadata": {},
   "outputs": [],
   "source": [
    "#graph_idx"
   ]
  },
  {
   "cell_type": "code",
   "execution_count": null,
   "id": "9123d09d",
   "metadata": {},
   "outputs": [],
   "source": [
    "#targets = [graph_distance(graphs[left], graphs[right]) for left, right in graph_idx]"
   ]
  },
  {
   "cell_type": "code",
   "execution_count": null,
   "id": "b773d576",
   "metadata": {},
   "outputs": [],
   "source": [
    "#targets"
   ]
  },
  {
   "cell_type": "code",
   "execution_count": null,
   "id": "bc5a6383",
   "metadata": {},
   "outputs": [],
   "source": [
    "#nx.directed_laplacian_matrix(nx.DiGraph(graphs[0].to_networkx(feature_attr=None)))"
   ]
  },
  {
   "cell_type": "code",
   "execution_count": null,
   "id": "2c99f650",
   "metadata": {},
   "outputs": [],
   "source": [
    "# for i in train_gen:\n",
    "#     print(i)"
   ]
  },
  {
   "cell_type": "code",
   "execution_count": null,
   "id": "85af91b1",
   "metadata": {},
   "outputs": [],
   "source": [
    "#es = EarlyStopping(monitor=\"loss\", min_delta=0, patience=25, restore_best_weights=True)"
   ]
  },
  {
   "cell_type": "code",
   "execution_count": null,
   "id": "47416bef",
   "metadata": {},
   "outputs": [],
   "source": [
    "#pair_model.compile(optimizer=Adam(0.001), loss=\"mse\")"
   ]
  },
  {
   "cell_type": "code",
   "execution_count": null,
   "id": "e5489430",
   "metadata": {},
   "outputs": [],
   "source": [
    "#%%time"
   ]
  },
  {
   "cell_type": "code",
   "execution_count": null,
   "id": "f1fddaf1",
   "metadata": {},
   "outputs": [],
   "source": [
    "#history.history"
   ]
  },
  {
   "cell_type": "code",
   "execution_count": null,
   "id": "4f0e9857",
   "metadata": {},
   "outputs": [],
   "source": []
  }
 ],
 "metadata": {
  "kernelspec": {
   "display_name": "Python 3",
   "language": "python",
   "name": "python3"
  },
  "language_info": {
   "codemirror_mode": {
    "name": "ipython",
    "version": 3
   },
   "file_extension": ".py",
   "mimetype": "text/x-python",
   "name": "python",
   "nbconvert_exporter": "python",
   "pygments_lexer": "ipython3",
   "version": "3.8.11"
  }
 },
 "nbformat": 4,
 "nbformat_minor": 5
}
