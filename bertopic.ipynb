{
 "cells": [
  {
   "cell_type": "code",
   "execution_count": null,
   "id": "9caaf78f",
   "metadata": {},
   "outputs": [],
   "source": [
    "from bertopic import BERTopic\n",
    "import pandas as pd\n",
    "import texthero as hero"
   ]
  },
  {
   "cell_type": "code",
   "execution_count": null,
   "id": "e2b627fe",
   "metadata": {},
   "outputs": [],
   "source": [
    "def create_model(titles):\n",
    "    topic_model = BERTopic(language=\"english\", calculate_probabilities=True, verbose=True)\n",
    "    topics, probs = topic_model.fit_transform(titles)\n",
    "    return topic_model, topics, probs"
   ]
  },
  {
   "cell_type": "code",
   "execution_count": null,
   "id": "4fc70035",
   "metadata": {},
   "outputs": [],
   "source": [
    "def reduce_topic(titles, topic_model, topics, probs, nr_topics):\n",
    "    new_topics, new_probs = topic_model.reduce_topics(titles, topics, probs, nr_topics=nr_topics)\n",
    "    return new_topics, new_probs"
   ]
  },
  {
   "cell_type": "code",
   "execution_count": null,
   "id": "ded7fb3e",
   "metadata": {},
   "outputs": [],
   "source": [
    "def predict(titles):\n",
    "    predict = topic_model.transform(test_titles)\n",
    "    return predict"
   ]
  },
  {
   "cell_type": "code",
   "execution_count": null,
   "id": "0abbb5c7",
   "metadata": {},
   "outputs": [],
   "source": [
    "def save_model(topic_model, location):\n",
    "    topic_model.save(location)"
   ]
  },
  {
   "cell_type": "code",
   "execution_count": null,
   "id": "0bd6e60e",
   "metadata": {},
   "outputs": [],
   "source": [
    "def load_model(topic_model, location):\n",
    "    my_model = BERTopic.load(location)"
   ]
  },
  {
   "cell_type": "code",
   "execution_count": null,
   "id": "ce0cb035",
   "metadata": {},
   "outputs": [],
   "source": [
    "if __name__==\"__main__\":\n",
    "    num_topic = 20\n",
    "    folder = \"../data/mgp_data/\"\n",
    "    publication = pd.read_csv(folder+\"final_mathscinet_publs_preprocessed.csv\", low_memory=False)\n",
    "    publication[\"clean_title\"] = hero.clean(publication[\"title\"])\n",
    "    publication[\"clean_title\"] = hero.stem(publication[\"clean_title\"])\n",
    "    publication1 = publication.sample(10000)\n",
    "    titles = publication1[\"clean_title\"].values.tolist()\n",
    "    topic_model, topics, probs = create_model(titles)\n",
    "    new_topics, new_probs = reduce_topic(titles, topic_model, topics, probs, num_topic)"
   ]
  }
 ],
 "metadata": {
  "kernelspec": {
   "display_name": "Python 3",
   "language": "python",
   "name": "python3"
  },
  "language_info": {
   "codemirror_mode": {
    "name": "ipython",
    "version": 3
   },
   "file_extension": ".py",
   "mimetype": "text/x-python",
   "name": "python",
   "nbconvert_exporter": "python",
   "pygments_lexer": "ipython3",
   "version": "3.8.11"
  }
 },
 "nbformat": 4,
 "nbformat_minor": 5
}
