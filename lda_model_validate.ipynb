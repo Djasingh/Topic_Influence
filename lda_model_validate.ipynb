{
 "cells": [
  {
   "cell_type": "code",
   "execution_count": null,
   "id": "afe62622",
   "metadata": {},
   "outputs": [],
   "source": []
  },
  {
   "cell_type": "code",
   "execution_count": null,
   "id": "82de6910",
   "metadata": {},
   "outputs": [],
   "source": [
    "topic_model = \"./topic_models/topic_model_mathscinet_25_with_all_and_thesis_title.gensim\"\n",
    "topic_dict  = \"./topic_models/dictionary_mathscinet_25_with_all_and_thesis_title.gensim\"\n",
    "corpus      = \"./topic_models/corpus_mathscinet_25_with_all_and_thesis_title.pkl\""
   ]
  },
  {
   "cell_type": "code",
   "execution_count": null,
   "id": "72c60dd7",
   "metadata": {},
   "outputs": [],
   "source": []
  },
  {
   "cell_type": "code",
   "execution_count": null,
   "id": "d8614502",
   "metadata": {},
   "outputs": [],
   "source": []
  }
 ],
 "metadata": {
  "kernelspec": {
   "display_name": "Python 3",
   "language": "python",
   "name": "python3"
  },
  "language_info": {
   "codemirror_mode": {
    "name": "ipython",
    "version": 3
   },
   "file_extension": ".py",
   "mimetype": "text/x-python",
   "name": "python",
   "nbconvert_exporter": "python",
   "pygments_lexer": "ipython3",
   "version": "3.8.11"
  }
 },
 "nbformat": 4,
 "nbformat_minor": 5
}
