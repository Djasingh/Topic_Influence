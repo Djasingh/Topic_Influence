{
 "cells": [
  {
   "cell_type": "code",
   "execution_count": 1,
   "id": "d5a1241e",
   "metadata": {},
   "outputs": [],
   "source": [
    "import pickle\n",
    "import logging\n",
    "import traceback\n",
    "import numpy as np\n",
    "import pandas as pd\n",
    "from scholarly import scholarly, ProxyGenerator"
   ]
  },
  {
   "cell_type": "code",
   "execution_count": 2,
   "id": "ca5a4243",
   "metadata": {},
   "outputs": [],
   "source": [
    "#maximum 500 request allowed per day per ip"
   ]
  },
  {
   "cell_type": "code",
   "execution_count": 3,
   "id": "7a828bf0",
   "metadata": {},
   "outputs": [],
   "source": [
    "# pg = ProxyGenerator()\n",
    "# success = pg.FreeProxies()\n",
    "# scholarly.use_proxy(pg)"
   ]
  },
  {
   "cell_type": "code",
   "execution_count": 4,
   "id": "91bbdc40",
   "metadata": {},
   "outputs": [],
   "source": [
    "data_folder = \"../data/mgp_data/\""
   ]
  },
  {
   "cell_type": "code",
   "execution_count": 5,
   "id": "dfce807b",
   "metadata": {},
   "outputs": [],
   "source": [
    "def extract_author_info(author_name='Steven A Cholewiak'):\n",
    "    # Retrieve the author's data, fill-in, and print\n",
    "    # Get an iterator for the author results\n",
    "    try:\n",
    "        search_query = scholarly.search_author(author_name)\n",
    "        # Retrieve the first result from the iterator\n",
    "        first_author_result = next(search_query)\n",
    "        #scholarly.pprint(first_author_result)\n",
    "        author = scholarly.fill(first_author_result , sections =[\"basics\",\"indices\"])\n",
    "    except StopIteration:\n",
    "        author = None\n",
    "    return author"
   ]
  },
  {
   "cell_type": "code",
   "execution_count": 6,
   "id": "b0edfda0",
   "metadata": {},
   "outputs": [],
   "source": [
    "#extract_author_info()"
   ]
  },
  {
   "cell_type": "code",
   "execution_count": 8,
   "id": "a83efdc4",
   "metadata": {},
   "outputs": [
    {
     "name": "stdout",
     "output_type": "stream",
     "text": [
      "Start index: 6870\n",
      "Number of researchers information extracted: 30\n",
      "Number of researchers information extracted: 130\n",
      "Number of researchers information extracted: 230\n",
      "Data Stored\n",
      "Extracted till index: 7200\n",
      "Done\n"
     ]
    }
   ],
   "source": [
    "if __name__==\"__main__\":\n",
    "    mgp_author_details = {}\n",
    "    mgp_researcher = pd.read_csv(data_folder+\"mgpnodeList_with_year_completion_updated.csv\", \n",
    "                                 lineterminator='\\n', low_memory=False)\n",
    "    group_id = list(np.load(\"group_id_without_hindex.npy\"))\n",
    "    mgp_researcher=mgp_researcher[mgp_researcher[\"Id\"].isin(list(group_id))].copy()\n",
    "    start_index = 6870 #(updated:0, 500, 884, Run count= 2)\n",
    "    last_index  = 7200\n",
    "    print(f\"Start index: {start_index}\")\n",
    "    #mgp_researcher=mgp_researcher.sample(10)\n",
    "    mgp_researcher=mgp_researcher.iloc[start_index:last_index]\n",
    "    till_index = start_index\n",
    "    try:\n",
    "        for index, row in mgp_researcher.iterrows():\n",
    "            name = row[\"Name\"]\n",
    "            idd  = row[\"Id\"]\n",
    "            author_detail = extract_author_info(name)\n",
    "            mgp_author_details[idd] = author_detail\n",
    "            if till_index % 100 == 0:\n",
    "                print(f\"Number of researchers information extracted: {till_index-start_index}\")\n",
    "            till_index = till_index+1\n",
    "    except Exception as e:\n",
    "        logging.error(traceback.format_exc())\n",
    "#         with open(f\"mgp_author_h-index_{index}.pkl\", 'wb') as fp:\n",
    "#             pickle.dump(mgp_author_details, fp, protocol=pickle.HIGHEST_PROTOCOL)\n",
    "    if len(mgp_author_details)>0:\n",
    "        with open(f\"mgp_author_h-index_{start_index}_{till_index}.pkl\", 'wb') as fp:\n",
    "            pickle.dump(mgp_author_details, fp, protocol=pickle.HIGHEST_PROTOCOL)\n",
    "        print(\"Data Stored\")\n",
    "    print(f\"Extracted till index: {till_index}\")\n",
    "    print(\"Done\")"
   ]
  },
  {
   "cell_type": "code",
   "execution_count": 2,
   "id": "864d813c",
   "metadata": {},
   "outputs": [],
   "source": [
    "#till_index+450"
   ]
  },
  {
   "cell_type": "code",
   "execution_count": 15,
   "id": "702c0407",
   "metadata": {},
   "outputs": [],
   "source": [
    "with open('mgp_author_h-index_500_7514.pkl', 'rb') as fp:\n",
    "    data = pickle.load(fp)"
   ]
  },
  {
   "cell_type": "code",
   "execution_count": 38,
   "id": "ea3c2c80",
   "metadata": {},
   "outputs": [
    {
     "data": {
      "text/plain": [
       "{}"
      ]
     },
     "execution_count": 38,
     "metadata": {},
     "output_type": "execute_result"
    }
   ],
   "source": [
    "mgp_author_details"
   ]
  },
  {
   "cell_type": "code",
   "execution_count": 16,
   "id": "84dbe08e",
   "metadata": {},
   "outputs": [
    {
     "data": {
      "text/plain": [
       "384"
      ]
     },
     "execution_count": 16,
     "metadata": {},
     "output_type": "execute_result"
    }
   ],
   "source": [
    "len(data)"
   ]
  },
  {
   "cell_type": "code",
   "execution_count": 17,
   "id": "18166fb6",
   "metadata": {},
   "outputs": [
    {
     "data": {
      "text/plain": [
       "884"
      ]
     },
     "execution_count": 17,
     "metadata": {},
     "output_type": "execute_result"
    }
   ],
   "source": [
    "#500+384"
   ]
  },
  {
   "cell_type": "code",
   "execution_count": null,
   "id": "588ed689",
   "metadata": {},
   "outputs": [],
   "source": []
  }
 ],
 "metadata": {
  "kernelspec": {
   "display_name": "Python 3",
   "language": "python",
   "name": "python3"
  },
  "language_info": {
   "codemirror_mode": {
    "name": "ipython",
    "version": 3
   },
   "file_extension": ".py",
   "mimetype": "text/x-python",
   "name": "python",
   "nbconvert_exporter": "python",
   "pygments_lexer": "ipython3",
   "version": "3.8.11"
  }
 },
 "nbformat": 4,
 "nbformat_minor": 5
}
